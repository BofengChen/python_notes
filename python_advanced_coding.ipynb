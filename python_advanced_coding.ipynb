{
 "cells": [
  {
   "cell_type": "markdown",
   "metadata": {},
   "source": [
    "# 函数进阶"
   ]
  },
  {
   "cell_type": "markdown",
   "metadata": {},
   "source": [
    "## 函数是基本类型"
   ]
  },
  {
   "cell_type": "markdown",
   "metadata": {},
   "source": [
    "在 `Python` 中，函数是一种基本类型的对象，这意味着\n",
    "\n",
    "* 可以将函数作为参数传给另一个函数\n",
    "* 将函数作为字典的值储存\n",
    "* 将函数作为另一个函数的返回值"
   ]
  },
  {
   "cell_type": "code",
   "execution_count": 5,
   "metadata": {
    "ExecuteTime": {
     "end_time": "2020-03-27T11:27:04.789352Z",
     "start_time": "2020-03-27T11:27:04.784360Z"
    }
   },
   "outputs": [],
   "source": [
    "def square(x):\n",
    "    \"\"\"Square of x.\"\"\"\n",
    "    return x*x\n",
    "\n",
    "def cube(x):\n",
    "    \"\"\"Cube of x.\"\"\"\n",
    "    return x*x*x"
   ]
  },
  {
   "cell_type": "markdown",
   "metadata": {},
   "source": [
    "作为字典的值："
   ]
  },
  {
   "cell_type": "code",
   "execution_count": 2,
   "metadata": {
    "ExecuteTime": {
     "end_time": "2020-03-02T15:25:35.935645Z",
     "start_time": "2020-03-02T15:25:35.923645Z"
    }
   },
   "outputs": [
    {
     "name": "stdout",
     "output_type": "stream",
     "text": [
      "4\n",
      "8\n",
      "cube 8\n",
      "square 4\n"
     ]
    }
   ],
   "source": [
    "funcs = {\n",
    "    'square': square,\n",
    "    'cube': cube,}\n",
    "\n",
    "x = 2\n",
    "print(square(x))\n",
    "print(cube(x))\n",
    "\n",
    "for func in sorted(funcs):\n",
    "    print(func, funcs[func](x))"
   ]
  },
  {
   "cell_type": "markdown",
   "metadata": {},
   "source": [
    "## 函数参数"
   ]
  },
  {
   "cell_type": "markdown",
   "metadata": {},
   "source": [
    "### 引用传递"
   ]
  },
  {
   "cell_type": "markdown",
   "metadata": {},
   "source": [
    "`Python` 中的函数传递方式是 `call by reference` 即引用传递，例如，对于这样的用法：\n",
    "\n",
    "    x = [10, 11, 12]\n",
    "    f(x)\n",
    "\n",
    "传递给函数 `f` 的是一个指向 `x` 所包含内容的引用，如果我们修改了这个引用所指向内容的值（例如 `x[0]=999`），那么外面的 `x` 的值也会被改变。不过如果我们在函数中赋给 `x` 一个新的值（例如另一个列表），那么在函数外面的 `x` 的值不会改变："
   ]
  },
  {
   "cell_type": "code",
   "execution_count": 3,
   "metadata": {
    "ExecuteTime": {
     "end_time": "2020-03-02T15:25:37.419730Z",
     "start_time": "2020-03-02T15:25:37.407730Z"
    }
   },
   "outputs": [
    {
     "name": "stdout",
     "output_type": "stream",
     "text": [
      "[1, 2, 3]\n",
      "[999, 2, 3]\n",
      "[999, 2, 3]\n"
     ]
    }
   ],
   "source": [
    "def mod_f(x):\n",
    "    x[0] = 999\n",
    "    return x\n",
    "\n",
    "x = [1, 2, 3]\n",
    "\n",
    "print(x)\n",
    "print(mod_f(x))\n",
    "print(x)"
   ]
  },
  {
   "cell_type": "code",
   "execution_count": 4,
   "metadata": {
    "ExecuteTime": {
     "end_time": "2020-03-02T15:25:37.674745Z",
     "start_time": "2020-03-02T15:25:37.660744Z"
    }
   },
   "outputs": [
    {
     "name": "stdout",
     "output_type": "stream",
     "text": [
      "[1, 2, 3]\n",
      "[4, 5, 6]\n",
      "[1, 2, 3]\n"
     ]
    }
   ],
   "source": [
    "def no_mod_f(x):\n",
    "    x = [4, 5, 6]\n",
    "    return x\n",
    "\n",
    "x = [1,2,3]\n",
    "\n",
    "print(x)\n",
    "print(no_mod_f(x))\n",
    "print(x)"
   ]
  },
  {
   "cell_type": "markdown",
   "metadata": {},
   "source": [
    "上面两种不同的原因在【python基本编程】章节有具体介绍。"
   ]
  },
  {
   "cell_type": "markdown",
   "metadata": {},
   "source": [
    "### 默认参数是可变的！"
   ]
  },
  {
   "cell_type": "markdown",
   "metadata": {},
   "source": [
    "函数可以传递默认参数，默认参数的绑定发生在函数定义的时候，以后每次调用默认参数时都会使用同一个引用。\n",
    "\n",
    "这样的机制会导致这种情况的发生："
   ]
  },
  {
   "cell_type": "code",
   "execution_count": 10,
   "metadata": {
    "ExecuteTime": {
     "end_time": "2019-10-15T00:44:35.070593Z",
     "start_time": "2019-10-15T00:44:35.058592Z"
    }
   },
   "outputs": [],
   "source": [
    "def f(x = []):\n",
    "    x.append(1)\n",
    "    return x"
   ]
  },
  {
   "cell_type": "markdown",
   "metadata": {},
   "source": [
    "理论上说，我们希望调用 `f()` 时返回的是 `[1]`， 但事实上："
   ]
  },
  {
   "cell_type": "code",
   "execution_count": 11,
   "metadata": {
    "ExecuteTime": {
     "end_time": "2019-10-15T00:44:36.243660Z",
     "start_time": "2019-10-15T00:44:36.222659Z"
    }
   },
   "outputs": [
    {
     "name": "stdout",
     "output_type": "stream",
     "text": [
      "[1]\n",
      "[1, 1]\n",
      "[1, 1, 1]\n",
      "[9, 9, 9, 1]\n",
      "[1, 1, 1, 1]\n",
      "[1, 1, 1, 1, 1]\n"
     ]
    }
   ],
   "source": [
    "print(f())\n",
    "print(f())\n",
    "print(f())\n",
    "print(f(x = [9,9,9]))\n",
    "print(f())\n",
    "print(f())"
   ]
  },
  {
   "cell_type": "markdown",
   "metadata": {},
   "source": [
    "而我们希望看到的应该是这样："
   ]
  },
  {
   "cell_type": "code",
   "execution_count": 12,
   "metadata": {
    "ExecuteTime": {
     "end_time": "2019-10-15T00:45:05.460331Z",
     "start_time": "2019-10-15T00:45:05.428329Z"
    }
   },
   "outputs": [
    {
     "name": "stdout",
     "output_type": "stream",
     "text": [
      "[1]\n",
      "[1]\n",
      "[1]\n",
      "[9, 9, 9, 1]\n",
      "[1]\n",
      "[1]\n"
     ]
    }
   ],
   "source": [
    "def f(x = None):\n",
    "    if x is None:\n",
    "        x = []\n",
    "    x.append(1)\n",
    "    return x\n",
    "\n",
    "print(f())\n",
    "print(f())\n",
    "print(f())\n",
    "print(f(x = [9,9,9]))\n",
    "print(f())\n",
    "print(f())"
   ]
  },
  {
   "cell_type": "markdown",
   "metadata": {},
   "source": [
    "## 高阶函数"
   ]
  },
  {
   "cell_type": "markdown",
   "metadata": {},
   "source": [
    "以函数作为参数，或者返回一个函数的函数是高阶函数，常用的例子有 `map` 和 `filter` 函数：\n",
    "\n",
    "`map(f, sq)` 函数将 `f` 作用到 `sq` 的每个元素上去，并返回结果组成的列表，相当于：\n",
    "```python\n",
    "[f(s) for s in sq]\n",
    "```\n",
    "\n",
    "注：python3中返回的不是列表，是一个迭代器，所以需要在外面加一层`list()`才会得到列表。"
   ]
  },
  {
   "cell_type": "code",
   "execution_count": 17,
   "metadata": {
    "ExecuteTime": {
     "end_time": "2019-10-15T00:48:05.277616Z",
     "start_time": "2019-10-15T00:48:05.258615Z"
    }
   },
   "outputs": [
    {
     "data": {
      "text/plain": [
       "[0, 1, 4, 9, 16]"
      ]
     },
     "execution_count": 17,
     "metadata": {},
     "output_type": "execute_result"
    }
   ],
   "source": [
    "list(map(square, range(5)))"
   ]
  },
  {
   "cell_type": "markdown",
   "metadata": {},
   "source": [
    "`filter(f, sq)` 函数的作用相当于，对于 `sq` 的每个元素 `s`，返回所有 `f(s)` 为 `True` 的 `s` 组成的列表，相当于：\n",
    "```python\n",
    "[s for s in sq if f(s)]\n",
    "```"
   ]
  },
  {
   "cell_type": "code",
   "execution_count": 19,
   "metadata": {
    "ExecuteTime": {
     "end_time": "2019-10-15T00:48:44.167840Z",
     "start_time": "2019-10-15T00:48:44.151839Z"
    }
   },
   "outputs": [
    {
     "data": {
      "text/plain": [
       "[0, 2, 4]"
      ]
     },
     "execution_count": 19,
     "metadata": {},
     "output_type": "execute_result"
    }
   ],
   "source": [
    "def is_even(x):\n",
    "    return x % 2 == 0\n",
    "\n",
    "list(filter(is_even, range(5)))"
   ]
  },
  {
   "cell_type": "markdown",
   "metadata": {},
   "source": [
    "一起使用："
   ]
  },
  {
   "cell_type": "code",
   "execution_count": 21,
   "metadata": {
    "ExecuteTime": {
     "end_time": "2019-10-15T00:49:07.639183Z",
     "start_time": "2019-10-15T00:49:07.622182Z"
    }
   },
   "outputs": [
    {
     "data": {
      "text/plain": [
       "[0, 4, 16]"
      ]
     },
     "execution_count": 21,
     "metadata": {},
     "output_type": "execute_result"
    }
   ],
   "source": [
    "list(map(square, filter(is_even, range(5))))"
   ]
  },
  {
   "cell_type": "markdown",
   "metadata": {},
   "source": [
    "`reduce(f, sq)` 函数接受一个二元操作函数 `f(x,y)`，并对于序列 `sq` 每次合并两个元素："
   ]
  },
  {
   "cell_type": "code",
   "execution_count": 23,
   "metadata": {
    "ExecuteTime": {
     "end_time": "2019-10-15T00:49:43.712246Z",
     "start_time": "2019-10-15T00:49:43.689245Z"
    }
   },
   "outputs": [
    {
     "data": {
      "text/plain": [
       "15"
      ]
     },
     "execution_count": 23,
     "metadata": {},
     "output_type": "execute_result"
    }
   ],
   "source": [
    "from functools import reduce\n",
    "def my_add(x, y):\n",
    "    return x + y\n",
    "\n",
    "reduce(my_add, [1,2,3,4,5])"
   ]
  },
  {
   "cell_type": "markdown",
   "metadata": {},
   "source": [
    "传入加法函数，相当于对序列求和。\n",
    "\n",
    "返回一个函数："
   ]
  },
  {
   "cell_type": "code",
   "execution_count": 24,
   "metadata": {
    "ExecuteTime": {
     "end_time": "2019-10-15T00:52:07.237455Z",
     "start_time": "2019-10-15T00:52:07.207453Z"
    }
   },
   "outputs": [],
   "source": [
    "def make_logger(target):\n",
    "    def logger(data):\n",
    "        with open(target, 'a') as f:\n",
    "            f.write(data + '\\n')\n",
    "    return logger\n",
    "\n",
    "foo_logger = make_logger('foo.txt')\n",
    "foo_logger('Hello')\n",
    "foo_logger('World')"
   ]
  },
  {
   "cell_type": "code",
   "execution_count": 30,
   "metadata": {
    "ExecuteTime": {
     "end_time": "2019-10-15T00:52:41.462413Z",
     "start_time": "2019-10-15T00:52:41.449412Z"
    }
   },
   "outputs": [],
   "source": [
    "import os\n",
    "os.remove('foo.txt')"
   ]
  },
  {
   "cell_type": "markdown",
   "metadata": {},
   "source": [
    "## 匿名函数"
   ]
  },
  {
   "cell_type": "markdown",
   "metadata": {},
   "source": [
    "在使用 `map`， `filter`，`reduce` 等函数的时候，为了方便，对一些简单的函数，我们通常使用匿名函数的方式进行处理，其基本形式是：\n",
    "\n",
    "    lambda <variables>: <expression>\n",
    "\n",
    "例如，我们可以将这个："
   ]
  },
  {
   "cell_type": "code",
   "execution_count": 32,
   "metadata": {
    "ExecuteTime": {
     "end_time": "2019-10-15T00:53:11.524132Z",
     "start_time": "2019-10-15T00:53:11.510131Z"
    }
   },
   "outputs": [
    {
     "name": "stdout",
     "output_type": "stream",
     "text": [
      "[0, 1, 4, 9, 16]\n"
     ]
    }
   ],
   "source": [
    "print(list(map(square, range(5))))"
   ]
  },
  {
   "cell_type": "markdown",
   "metadata": {},
   "source": [
    "用匿名函数替换为："
   ]
  },
  {
   "cell_type": "code",
   "execution_count": 33,
   "metadata": {
    "ExecuteTime": {
     "end_time": "2019-10-15T00:53:26.463987Z",
     "start_time": "2019-10-15T00:53:26.449986Z"
    }
   },
   "outputs": [
    {
     "name": "stdout",
     "output_type": "stream",
     "text": [
      "[0, 1, 4, 9, 16]\n"
     ]
    }
   ],
   "source": [
    "print(list(map(lambda x: x * x, range(5))))"
   ]
  },
  {
   "cell_type": "markdown",
   "metadata": {},
   "source": [
    "匿名函数虽然写起来比较方便（省去了定义函数的烦恼），但是有时候会比较难于阅读："
   ]
  },
  {
   "cell_type": "code",
   "execution_count": 34,
   "metadata": {
    "ExecuteTime": {
     "end_time": "2019-10-15T00:53:50.650370Z",
     "start_time": "2019-10-15T00:53:50.637369Z"
    }
   },
   "outputs": [
    {
     "name": "stdout",
     "output_type": "stream",
     "text": [
      "285\n"
     ]
    }
   ],
   "source": [
    "s1 = reduce(lambda x, y: x+y, map(lambda x: x**2, range(1,10)))\n",
    "print(s1)"
   ]
  },
  {
   "cell_type": "markdown",
   "metadata": {},
   "source": [
    "当然，更简单地，我们可以写成这样："
   ]
  },
  {
   "cell_type": "code",
   "execution_count": 35,
   "metadata": {
    "ExecuteTime": {
     "end_time": "2019-10-15T00:54:07.298322Z",
     "start_time": "2019-10-15T00:54:07.284321Z"
    }
   },
   "outputs": [
    {
     "name": "stdout",
     "output_type": "stream",
     "text": [
      "285\n"
     ]
    }
   ],
   "source": [
    "s2 = sum(x**2 for x in range(1, 10))\n",
    "print(s2)"
   ]
  },
  {
   "cell_type": "markdown",
   "metadata": {},
   "source": [
    "# 作用域"
   ]
  },
  {
   "cell_type": "markdown",
   "metadata": {},
   "source": [
    "在函数中，`Python` 从命名空间中寻找变量的顺序如下：\n",
    "\n",
    "- `local function scope`：局部\n",
    "- `enclosing scope`：嵌套\n",
    "- `global scope`：全局\n",
    "- `builtin scope`：内建\n",
    "\n",
    "例子："
   ]
  },
  {
   "cell_type": "markdown",
   "metadata": {},
   "source": [
    "## local 作用域"
   ]
  },
  {
   "cell_type": "code",
   "execution_count": 1,
   "metadata": {
    "ExecuteTime": {
     "end_time": "2019-10-21T16:01:06.594025Z",
     "start_time": "2019-10-21T16:01:06.590025Z"
    }
   },
   "outputs": [],
   "source": [
    "def foo(a,b):\n",
    "    c = 1\n",
    "    d = a + b + c"
   ]
  },
  {
   "cell_type": "markdown",
   "metadata": {},
   "source": [
    "这里所有的变量都在 `local` 作用域。"
   ]
  },
  {
   "cell_type": "markdown",
   "metadata": {},
   "source": [
    "## global 作用域与关键词"
   ]
  },
  {
   "cell_type": "code",
   "execution_count": 2,
   "metadata": {
    "ExecuteTime": {
     "end_time": "2019-10-21T16:03:13.761299Z",
     "start_time": "2019-10-21T16:03:13.757299Z"
    }
   },
   "outputs": [],
   "source": [
    "c = 1\n",
    "def foo(a,b):\n",
    "    d = a + b + c"
   ]
  },
  {
   "cell_type": "markdown",
   "metadata": {},
   "source": [
    "这里的 `c` 就在 `global` 作用域。"
   ]
  },
  {
   "cell_type": "markdown",
   "metadata": {},
   "source": [
    "使用 `global` 关键词可以在 `local` 作用域中修改 `global` 作用域的值。"
   ]
  },
  {
   "cell_type": "code",
   "execution_count": 4,
   "metadata": {
    "ExecuteTime": {
     "end_time": "2019-10-21T16:04:06.235300Z",
     "start_time": "2019-10-21T16:04:06.226300Z"
    }
   },
   "outputs": [
    {
     "name": "stdout",
     "output_type": "stream",
     "text": [
      "15\n",
      "18\n"
     ]
    }
   ],
   "source": [
    "x = 15\n",
    "\n",
    "def print_newx():\n",
    "    global x\n",
    "    x = 18\n",
    "\n",
    "print(x)\n",
    "print_newx()\n",
    "print(x)"
   ]
  },
  {
   "cell_type": "markdown",
   "metadata": {
    "ExecuteTime": {
     "end_time": "2019-10-21T16:04:45.459544Z",
     "start_time": "2019-10-21T16:04:45.451543Z"
    }
   },
   "source": [
    "其作用是将 `x` 指向 `global` 中的 `x`。\n",
    "\n",
    "如果不加关键词，那么 `local` 作用域的 `x` 不会影响 `global` 作用域中的值："
   ]
  },
  {
   "cell_type": "code",
   "execution_count": 5,
   "metadata": {
    "ExecuteTime": {
     "end_time": "2019-10-21T16:04:14.173754Z",
     "start_time": "2019-10-21T16:04:14.161754Z"
    }
   },
   "outputs": [
    {
     "name": "stdout",
     "output_type": "stream",
     "text": [
      "15\n"
     ]
    }
   ],
   "source": [
    "x = 15\n",
    "\n",
    "def print_newx():\n",
    "    x = 18\n",
    "    \n",
    "print_newx()\n",
    "\n",
    "print(x)"
   ]
  },
  {
   "cell_type": "markdown",
   "metadata": {},
   "source": [
    "## built-in 作用域"
   ]
  },
  {
   "cell_type": "code",
   "execution_count": 7,
   "metadata": {
    "ExecuteTime": {
     "end_time": "2019-10-21T16:05:28.929030Z",
     "start_time": "2019-10-21T16:05:28.918029Z"
    }
   },
   "outputs": [
    {
     "name": "stdout",
     "output_type": "stream",
     "text": [
      "3\n"
     ]
    }
   ],
   "source": [
    "def list_length(a):\n",
    "    return len(a)\n",
    "\n",
    "a = [1,2,3]\n",
    "print( list_length(a))"
   ]
  },
  {
   "cell_type": "markdown",
   "metadata": {},
   "source": [
    "这里函数 `len` 就是在 `built-in` 作用域中："
   ]
  },
  {
   "cell_type": "code",
   "execution_count": 10,
   "metadata": {
    "ExecuteTime": {
     "end_time": "2019-10-21T16:07:28.607875Z",
     "start_time": "2019-10-21T16:07:28.583874Z"
    }
   },
   "outputs": [
    {
     "data": {
      "text/plain": [
       "<function len>"
      ]
     },
     "execution_count": 10,
     "metadata": {},
     "output_type": "execute_result"
    }
   ],
   "source": [
    "import builtins\n",
    "builtins.len"
   ]
  },
  {
   "cell_type": "markdown",
   "metadata": {},
   "source": [
    "## 词法作用域"
   ]
  },
  {
   "cell_type": "markdown",
   "metadata": {},
   "source": [
    "对于嵌套函数："
   ]
  },
  {
   "cell_type": "code",
   "execution_count": 14,
   "metadata": {
    "ExecuteTime": {
     "end_time": "2020-02-06T04:21:03.124317Z",
     "start_time": "2020-02-06T04:21:03.111813Z"
    }
   },
   "outputs": [
    {
     "name": "stdout",
     "output_type": "stream",
     "text": [
      "a = 1\n"
     ]
    }
   ],
   "source": [
    "def outer():\n",
    "    a = 1\n",
    "    def inner():\n",
    "        print (\"a =\", a)\n",
    "    return inner()\n",
    "\n",
    "outer()"
   ]
  },
  {
   "cell_type": "markdown",
   "metadata": {},
   "source": [
    "如果里面的函数没有找到变量，那么会向外一层寻找变量，如果再找不到，则到 `global` 作用域。\n",
    "\n",
    "返回的是函数时的情况："
   ]
  },
  {
   "cell_type": "code",
   "execution_count": 13,
   "metadata": {
    "ExecuteTime": {
     "end_time": "2020-02-06T04:19:16.087465Z",
     "start_time": "2020-02-06T04:19:16.078914Z"
    }
   },
   "outputs": [
    {
     "name": "stdout",
     "output_type": "stream",
     "text": [
      "a (1): 1\n"
     ]
    }
   ],
   "source": [
    "def outer():\n",
    "    a = 1\n",
    "    def inner():\n",
    "        return a\n",
    "    return inner\n",
    "    \n",
    "func = outer()\n",
    "\n",
    "print ('a (1):', func())"
   ]
  },
  {
   "cell_type": "markdown",
   "metadata": {},
   "source": [
    "func() 函数中调用的 `a` 要从它定义的地方开始寻找，而不是在 `func` 所在的作用域寻找。"
   ]
  },
  {
   "cell_type": "markdown",
   "metadata": {},
   "source": [
    "# 递归"
   ]
  },
  {
   "cell_type": "markdown",
   "metadata": {},
   "source": [
    "**闭包**指延伸了作用域的函数，其中包含在函数定义体重引用、但是不在定义体中定义的**非全局变量**。也就是说，它能访问定义体之外定义的非全局变量。\n",
    "\n",
    "* 只有在涉及**嵌套函数**时才有闭包问题；\n",
    "* 这里提到的非全局变量也就是指 嵌套作用域`enclosing scope`。\n",
    "\n",
    "\n",
    "Fibocacci 数列："
   ]
  },
  {
   "cell_type": "code",
   "execution_count": 39,
   "metadata": {
    "ExecuteTime": {
     "end_time": "2019-10-15T00:59:45.544770Z",
     "start_time": "2019-10-15T00:59:45.526769Z"
    }
   },
   "outputs": [
    {
     "name": "stdout",
     "output_type": "stream",
     "text": [
      "[1, 1, 2, 3, 5, 8, 13, 21, 34, 55]\n"
     ]
    }
   ],
   "source": [
    "def fib1(n):\n",
    "    \"\"\"Fib with recursion.\"\"\"\n",
    "\n",
    "    # base case\n",
    "    if n==0 or n==1:\n",
    "        return 1\n",
    "    # recurssive caae\n",
    "    else:\n",
    "        return fib1(n-1) + fib1(n-2)\n",
    "\n",
    "print([fib1(i) for i in range(10)])"
   ]
  },
  {
   "cell_type": "markdown",
   "metadata": {},
   "source": [
    "一个更高效的非递归版本："
   ]
  },
  {
   "cell_type": "code",
   "execution_count": 40,
   "metadata": {
    "ExecuteTime": {
     "end_time": "2019-10-15T01:01:26.763559Z",
     "start_time": "2019-10-15T01:01:26.741558Z"
    }
   },
   "outputs": [
    {
     "name": "stdout",
     "output_type": "stream",
     "text": [
      "[1, 1, 2, 3, 5, 8, 13, 21, 34, 55]\n"
     ]
    }
   ],
   "source": [
    "def fib2(n):\n",
    "    \"\"\"Fib without recursion.\"\"\"\n",
    "    a, b = 0, 1\n",
    "    for i in range(1, n+1):\n",
    "        a, b = b, a+b\n",
    "    return b\n",
    "\n",
    "print([fib2(i) for i in range(10)])"
   ]
  },
  {
   "cell_type": "markdown",
   "metadata": {},
   "source": [
    "速度比较："
   ]
  },
  {
   "cell_type": "code",
   "execution_count": 41,
   "metadata": {
    "ExecuteTime": {
     "end_time": "2019-10-15T01:01:47.568749Z",
     "start_time": "2019-10-15T01:01:29.754730Z"
    }
   },
   "outputs": [
    {
     "name": "stdout",
     "output_type": "stream",
     "text": [
      "4.42 ms ± 132 µs per loop (mean ± std. dev. of 7 runs, 100 loops each)\n",
      "1.76 µs ± 75.1 ns per loop (mean ± std. dev. of 7 runs, 1000000 loops each)\n"
     ]
    }
   ],
   "source": [
    "%timeit fib1(20)\n",
    "%timeit fib2(20)"
   ]
  },
  {
   "cell_type": "markdown",
   "metadata": {},
   "source": [
    "对于第一个递归函数来说，调用 `fib(n+2)` 的时候计算 `fib(n+1), fib(n)`，调用 `fib(n+1)` 的时候也计算了一次 `fib(n)`，这样造成了重复计算。\n",
    "\n",
    "使用缓存机制的递归版本，这里利用了默认参数可变的性质，构造了一个缓存："
   ]
  },
  {
   "cell_type": "code",
   "execution_count": 42,
   "metadata": {
    "ExecuteTime": {
     "end_time": "2019-10-15T01:03:13.166298Z",
     "start_time": "2019-10-15T01:02:41.734847Z"
    }
   },
   "outputs": [
    {
     "name": "stdout",
     "output_type": "stream",
     "text": [
      "[1, 1, 2, 3, 5, 8, 13, 21, 34, 55]\n",
      "4.38 ms ± 69.5 µs per loop (mean ± std. dev. of 7 runs, 100 loops each)\n",
      "1.74 µs ± 58.3 ns per loop (mean ± std. dev. of 7 runs, 1000000 loops each)\n",
      "170 ns ± 6.95 ns per loop (mean ± std. dev. of 7 runs, 10000000 loops each)\n"
     ]
    }
   ],
   "source": [
    "def fib3(n, cache={0: 1, 1: 1}):\n",
    "    \"\"\"Fib with recursion and caching.\"\"\"\n",
    "\n",
    "    try:\n",
    "        return cache[n]\n",
    "    except KeyError:\n",
    "        cache[n] = fib3(n-1) + fib3(n-2)\n",
    "        return cache[n]\n",
    "\n",
    "print ([fib3(i) for i in range(10)])\n",
    "\n",
    "%timeit fib1(20)\n",
    "%timeit fib2(20)\n",
    "%timeit fib3(20)"
   ]
  },
  {
   "cell_type": "markdown",
   "metadata": {},
   "source": [
    "# 迭代器"
   ]
  },
  {
   "cell_type": "markdown",
   "metadata": {},
   "source": [
    "迭代是数据处理的基石。扫描内存中放不下的数据集时，我们要找到一种惰性获取数据项的方式，即按需一次获取一个数据项。这就是迭代器模式（Iterator pattern）。"
   ]
  },
  {
   "cell_type": "markdown",
   "metadata": {},
   "source": [
    "在 Python 中，所有集合都可以迭代。在 Python 语言内部，迭代器用于支持：\n",
    "* for 循环\n",
    "* 构建和扩展集合类型\n",
    "* 逐行遍历文本文件\n",
    "* 列表推导、字典推导和集合推导\n",
    "* 元组拆包\n",
    "* 调用函数时，使用 * 拆包实参"
   ]
  },
  {
   "cell_type": "markdown",
   "metadata": {},
   "source": [
    "## iter函数"
   ]
  },
  {
   "cell_type": "markdown",
   "metadata": {},
   "source": [
    "序列可以迭代的原因：`iter函数`，解释器需要迭代对象 x 时，会自动调用 `iter(x)`。\n",
    "\n",
    "内置的 `iter 函数`有以下作用:\n",
    "1. 检查对象是否实现了 `__iter__` 方法，如果实现了就调用它，获取一个迭代器;\n",
    "2. 如果没有实现 `__iter__` 方法，但是实现了 `__getitem__` 方法，Python 会创建一个迭代器，尝试按顺序（从索引 0 开始）获取元素。\n",
    "3. 如果尝试失败，Python 抛出 TypeError 异常，通常会提示`“C object is not iterable”（C 对象不可迭代）`，其中 C 是目标对象所属的类。\n",
    "\n",
    "任何 Python 序列都可迭代的原因是，它们都实现了 `__getitem__` 方法。其实，标准的序列也都实现了 `__iter__` 方法，因此如果你想创建一个迭代序列的时候，也应该实现这个方法。\n",
    "\n",
    "之所以对 `__getitem__` 方法做特殊处理，是为了向后兼容。"
   ]
  },
  {
   "cell_type": "markdown",
   "metadata": {
    "ExecuteTime": {
     "end_time": "2020-07-01T00:44:56.856691Z",
     "start_time": "2020-07-01T00:44:56.849694Z"
    }
   },
   "source": [
    "***\n",
    "下面举一个实现了`__getitem__`方法然后可以迭代的例子。"
   ]
  },
  {
   "cell_type": "code",
   "execution_count": 2,
   "metadata": {
    "ExecuteTime": {
     "end_time": "2020-07-01T00:46:47.793618Z",
     "start_time": "2020-07-01T00:46:47.768634Z"
    }
   },
   "outputs": [],
   "source": [
    "import re\n",
    "import reprlib\n",
    "RE_WORD = re.compile('\\w+')\n",
    "\n",
    "class Sentence:\n",
    "    def __init__(self, text):\n",
    "        self.text = text\n",
    "        self.words = RE_WORD.findall(text) \n",
    "        \n",
    "    def __getitem__(self, index):\n",
    "        return self.words[index] \n",
    "    \n",
    "    def __len__(self): \n",
    "        return len(self.words)\n",
    "    \n",
    "    def __repr__(self):\n",
    "        return 'Sentence(%s)' % reprlib.repr(self.text)"
   ]
  },
  {
   "cell_type": "markdown",
   "metadata": {},
   "source": [
    "备注：\n",
    "1. 为了完善序列协议，我们实现了 `__len__` 方法；不过，为了让对象可以迭代，没必要实现这个方法。\n",
    "2. `reprlib.repr` 这个实用函数用于生成大型数据结构的简略字符串表示形式。"
   ]
  },
  {
   "cell_type": "code",
   "execution_count": 3,
   "metadata": {
    "ExecuteTime": {
     "end_time": "2020-07-01T00:48:48.786336Z",
     "start_time": "2020-07-01T00:48:48.769351Z"
    }
   },
   "outputs": [
    {
     "data": {
      "text/plain": [
       "Sentence('\"The time ha... Walrus said,')"
      ]
     },
     "execution_count": 3,
     "metadata": {},
     "output_type": "execute_result"
    }
   ],
   "source": [
    "#测试是否可以迭代\n",
    "s = Sentence('\"The time has come,\" the Walrus said,') \n",
    "s"
   ]
  },
  {
   "cell_type": "code",
   "execution_count": 4,
   "metadata": {
    "ExecuteTime": {
     "end_time": "2020-07-01T00:49:25.384280Z",
     "start_time": "2020-07-01T00:49:25.378284Z"
    }
   },
   "outputs": [
    {
     "name": "stdout",
     "output_type": "stream",
     "text": [
      "The\n",
      "time\n",
      "has\n",
      "come\n",
      "the\n",
      "Walrus\n",
      "said\n"
     ]
    }
   ],
   "source": [
    "for word in s: \n",
    "    print(word)"
   ]
  },
  {
   "cell_type": "code",
   "execution_count": 5,
   "metadata": {
    "ExecuteTime": {
     "end_time": "2020-07-01T00:49:35.750600Z",
     "start_time": "2020-07-01T00:49:35.743604Z"
    }
   },
   "outputs": [
    {
     "data": {
      "text/plain": [
       "['The', 'time', 'has', 'come', 'the', 'Walrus', 'said']"
      ]
     },
     "execution_count": 5,
     "metadata": {},
     "output_type": "execute_result"
    }
   ],
   "source": [
    "list(s)"
   ]
  },
  {
   "cell_type": "markdown",
   "metadata": {},
   "source": [
    "***"
   ]
  },
  {
   "cell_type": "code",
   "execution_count": 6,
   "metadata": {
    "ExecuteTime": {
     "end_time": "2020-07-01T00:55:28.424295Z",
     "start_time": "2020-07-01T00:55:28.417301Z"
    }
   },
   "outputs": [
    {
     "data": {
      "text/plain": [
       "False"
      ]
     },
     "execution_count": 6,
     "metadata": {},
     "output_type": "execute_result"
    }
   ],
   "source": [
    "from collections import abc\n",
    "issubclass(Sentence, abc.Iterable)"
   ]
  },
  {
   "cell_type": "markdown",
   "metadata": {},
   "source": [
    "备注：\n",
    "1. 我们定义的Sentence 类是可以迭代的，但却无法通过 `issubclass (Sentence, abc.Iterable)` 测试，因为它不是标准的迭代器，即没有实现`__iter__`方法；\n",
    "2. 从 Python 3.4 开始，检查对象 x 能否迭代，最准确的方法是：\n",
    "\n",
    "    调用 `iter(x)` 函数，如果不可迭代，再处理 TypeError 异常。这比使用 `isinstance(x, abc.Iterable)` 更准确，因为`iter(x)`函数会考虑到遗留的 `__getitem__` 方法，而 `abc.Iterable` 类则\n",
    "    不考虑。"
   ]
  },
  {
   "cell_type": "markdown",
   "metadata": {},
   "source": [
    "## 可迭代的对象与迭代器"
   ]
  },
  {
   "cell_type": "markdown",
   "metadata": {},
   "source": [
    "**可迭代的对象**：\n",
    "\n",
    "* 使用 **iter 内置函数**可以获取**迭代器**的对象。如果对象实现了能返回迭代器的 `__iter__` 方法，那么对象就是可迭代的。序列都可以迭代；\n",
    "    \n",
    "* 实现了 `__getitem__` 方法，而且其参数是从零开始的索引，这种对象也可以迭代。\n",
    "\n",
    "可迭代的对象和迭代器之间的关系：**Python 从可迭代的对象中获取迭代器.**"
   ]
  },
  {
   "cell_type": "markdown",
   "metadata": {},
   "source": [
    "标准的**迭代器接口**有两个方法:\n",
    "* `__next__`:返回下一个可用的元素，如果没有元素了，抛出 StopIteration异常。\n",
    "* `__iter__`:返回 self，以便在应该使用可迭代对象的地方使用迭代器，例如在 for 循环中。\n",
    "\n",
    "这个接口在 `collections.abc.Iterator` 抽象基类中制定:\n",
    "\n",
    "* 这个类定义了 `__next__` 抽象方法，而且继承自 `Iterable` 类；\n",
    "\n",
    "* `__iter__` 抽象方法则在 `Iterable` 类中定义。\n",
    "\n",
    "如下图所示："
   ]
  },
  {
   "cell_type": "markdown",
   "metadata": {},
   "source": [
    "<img src='input_data/迭代类.png'>"
   ]
  },
  {
   "cell_type": "markdown",
   "metadata": {},
   "source": [
    "下面我们重构`Sentence`类，按照严格的迭代器接口定义以及可迭代对象定义来实现。"
   ]
  },
  {
   "cell_type": "code",
   "execution_count": 11,
   "metadata": {
    "ExecuteTime": {
     "end_time": "2020-07-05T07:18:30.732893Z",
     "start_time": "2020-07-05T07:18:30.720916Z"
    }
   },
   "outputs": [],
   "source": [
    "import re\n",
    "import reprlib\n",
    "RE_WORD = re.compile('\\w+')\n",
    "class Sentence:\n",
    "    def __init__(self, text):\n",
    "        self.text = text\n",
    "        self.words = RE_WORD.findall(text)\n",
    "    \n",
    "    def __repr__(self):\n",
    "        return 'Sentence(%s)' % reprlib.repr(self.text)\n",
    "\n",
    "    def __iter__(self): \n",
    "        return SentenceIterator(self.words)\n",
    "\n",
    "class SentenceIterator:\n",
    "    def __init__(self, words):\n",
    "        self.words = words \n",
    "        self.index = 0 \n",
    "        \n",
    "    def __next__(self):\n",
    "        try:\n",
    "            word = self.words[self.index] \n",
    "        except IndexError:\n",
    "            raise StopIteration() \n",
    "        self.index += 1 \n",
    "        return word\n",
    "\n",
    "    def __iter__(self): \n",
    "        return self"
   ]
  },
  {
   "cell_type": "markdown",
   "metadata": {
    "ExecuteTime": {
     "end_time": "2020-07-05T07:18:06.865356Z",
     "start_time": "2020-07-05T07:18:06.856353Z"
    }
   },
   "source": [
    "我们发现，使用标准的迭代器接口定义实现的迭代器对象可以通过`issubclass`的测试："
   ]
  },
  {
   "cell_type": "code",
   "execution_count": 12,
   "metadata": {
    "ExecuteTime": {
     "end_time": "2020-07-05T07:18:32.439392Z",
     "start_time": "2020-07-05T07:18:32.431446Z"
    }
   },
   "outputs": [
    {
     "data": {
      "text/plain": [
       "True"
      ]
     },
     "execution_count": 12,
     "metadata": {},
     "output_type": "execute_result"
    }
   ],
   "source": [
    "from collections import abc\n",
    "issubclass(Sentence, abc.Iterable)"
   ]
  },
  {
   "cell_type": "markdown",
   "metadata": {},
   "source": [
    "**备注：**\n",
    "可迭代的对象一定不能是自身的迭代器。也就是说，可迭代的对象必须实现 `__iter__` 方法，但不能实现 `__next__` 方法。"
   ]
  },
  {
   "cell_type": "markdown",
   "metadata": {},
   "source": [
    "## 生成器函数yield"
   ]
  },
  {
   "cell_type": "markdown",
   "metadata": {},
   "source": [
    "* 只要 Python 函数的定义体中有 yield 关键字，该函数就是**生成器函数**。调用生成器函数时，会返回一个**生成器对象**。也就是说，生成器函数是生成器工厂。\n",
    "\n",
    "* 普通的函数与生成器函数在句法上唯一的区别是，在后者的定义体中有 yield 关键字。"
   ]
  },
  {
   "cell_type": "markdown",
   "metadata": {},
   "source": [
    "下面举一个简单的例子来说明生成器函数。"
   ]
  },
  {
   "cell_type": "code",
   "execution_count": 13,
   "metadata": {
    "ExecuteTime": {
     "end_time": "2020-07-05T08:42:26.670977Z",
     "start_time": "2020-07-05T08:42:26.651028Z"
    }
   },
   "outputs": [],
   "source": [
    "def gen_123():\n",
    "    yield 1\n",
    "    yield 2\n",
    "    yield 3"
   ]
  },
  {
   "cell_type": "code",
   "execution_count": 14,
   "metadata": {
    "ExecuteTime": {
     "end_time": "2020-07-05T08:42:33.638793Z",
     "start_time": "2020-07-05T08:42:33.625829Z"
    }
   },
   "outputs": [
    {
     "data": {
      "text/plain": [
       "<function __main__.gen_123()>"
      ]
     },
     "execution_count": 14,
     "metadata": {},
     "output_type": "execute_result"
    }
   ],
   "source": [
    "gen_123"
   ]
  },
  {
   "cell_type": "code",
   "execution_count": 15,
   "metadata": {
    "ExecuteTime": {
     "end_time": "2020-07-05T08:42:40.127895Z",
     "start_time": "2020-07-05T08:42:40.115984Z"
    }
   },
   "outputs": [
    {
     "data": {
      "text/plain": [
       "<generator object gen_123 at 0x0000022BC97EC228>"
      ]
     },
     "execution_count": 15,
     "metadata": {},
     "output_type": "execute_result"
    }
   ],
   "source": [
    "gen_123()"
   ]
  },
  {
   "cell_type": "markdown",
   "metadata": {},
   "source": [
    "我们注意到：`gen_123` 是一个函数对象，但是调用时 `gen_123()` 返回一个生成器对象。"
   ]
  },
  {
   "cell_type": "code",
   "execution_count": 21,
   "metadata": {
    "ExecuteTime": {
     "end_time": "2020-07-05T08:48:38.475321Z",
     "start_time": "2020-07-05T08:48:38.469254Z"
    }
   },
   "outputs": [
    {
     "name": "stdout",
     "output_type": "stream",
     "text": [
      "1\n",
      "2\n",
      "3\n"
     ]
    }
   ],
   "source": [
    "# 生成器是迭代器，会生成传给 `yield` 关键字的表达式的值\n",
    "for i in gen_123(): \n",
    "    print(i)"
   ]
  },
  {
   "cell_type": "code",
   "execution_count": 17,
   "metadata": {
    "ExecuteTime": {
     "end_time": "2020-07-05T08:44:25.146184Z",
     "start_time": "2020-07-05T08:44:25.138583Z"
    },
    "run_control": {
     "marked": true
    }
   },
   "outputs": [
    {
     "data": {
      "text/plain": [
       "1"
      ]
     },
     "execution_count": 17,
     "metadata": {},
     "output_type": "execute_result"
    }
   ],
   "source": [
    "g=gen_123()\n",
    "next(g)"
   ]
  },
  {
   "cell_type": "code",
   "execution_count": 18,
   "metadata": {
    "ExecuteTime": {
     "end_time": "2020-07-05T08:44:32.913715Z",
     "start_time": "2020-07-05T08:44:32.906739Z"
    }
   },
   "outputs": [
    {
     "data": {
      "text/plain": [
       "2"
      ]
     },
     "execution_count": 18,
     "metadata": {},
     "output_type": "execute_result"
    }
   ],
   "source": [
    "next(g)"
   ]
  },
  {
   "cell_type": "code",
   "execution_count": 19,
   "metadata": {
    "ExecuteTime": {
     "end_time": "2020-07-05T08:44:39.413497Z",
     "start_time": "2020-07-05T08:44:39.405520Z"
    }
   },
   "outputs": [
    {
     "data": {
      "text/plain": [
       "3"
      ]
     },
     "execution_count": 19,
     "metadata": {},
     "output_type": "execute_result"
    }
   ],
   "source": [
    "next(g)"
   ]
  },
  {
   "cell_type": "code",
   "execution_count": 22,
   "metadata": {
    "ExecuteTime": {
     "end_time": "2020-07-05T08:49:04.654200Z",
     "start_time": "2020-07-05T08:49:04.641239Z"
    }
   },
   "outputs": [
    {
     "ename": "StopIteration",
     "evalue": "",
     "output_type": "error",
     "traceback": [
      "\u001b[1;31m---------------------------------------------------------------------------\u001b[0m",
      "\u001b[1;31mStopIteration\u001b[0m                             Traceback (most recent call last)",
      "\u001b[1;32m<ipython-input-22-e734f8aca5ac>\u001b[0m in \u001b[0;36m<module>\u001b[1;34m\u001b[0m\n\u001b[1;32m----> 1\u001b[1;33m \u001b[0mnext\u001b[0m\u001b[1;33m(\u001b[0m\u001b[0mg\u001b[0m\u001b[1;33m)\u001b[0m\u001b[1;33m\u001b[0m\u001b[1;33m\u001b[0m\u001b[0m\n\u001b[0m",
      "\u001b[1;31mStopIteration\u001b[0m: "
     ]
    }
   ],
   "source": [
    "next(g)"
   ]
  },
  {
   "cell_type": "markdown",
   "metadata": {},
   "source": [
    "生成器函数会创建一个生成器对象，把生成器传给 `next(...)` 函数时，生成器函数会向前，执行函数定义体中的下一个 yield 语句，返回产出的值，并在函数定义体的当前位置暂停。最终，函数的定义体返回时，外层的生成器对象会抛出\n",
    "StopIteration 异常——这一点与迭代器协议一致。"
   ]
  },
  {
   "cell_type": "markdown",
   "metadata": {},
   "source": [
    "下面使用生成器函数来实现 Sentence类："
   ]
  },
  {
   "cell_type": "code",
   "execution_count": 1,
   "metadata": {
    "ExecuteTime": {
     "end_time": "2020-07-12T07:14:30.819654Z",
     "start_time": "2020-07-12T07:14:30.802283Z"
    }
   },
   "outputs": [],
   "source": [
    "import re\n",
    "import reprlib\n",
    "RE_WORD = re.compile('\\w+')\n",
    "class Sentence:\n",
    "    def __init__(self, text):\n",
    "        self.text = text\n",
    "        self.words = RE_WORD.findall(text)\n",
    "    def __repr__(self):\n",
    "        return 'Sentence(%s)' % reprlib.repr(self.text)\n",
    "    def __iter__(self):\n",
    "        for word in self.words: \n",
    "            yield word \n",
    "            return "
   ]
  },
  {
   "cell_type": "markdown",
   "metadata": {},
   "source": [
    "我们会发现使用生成器函数的好处在于，不用再单独定义一个迭代器类。"
   ]
  },
  {
   "cell_type": "markdown",
   "metadata": {},
   "source": [
    "### 惰性实现Sentence类"
   ]
  },
  {
   "cell_type": "markdown",
   "metadata": {},
   "source": [
    "目前实现的几版 Sentence 类都不具有惰性，因为 `__init__` 方法急迫地构建好了文本中的单词列表，然后将其绑定到 `self.words` 属性上。这样就得处理整个文本，列表使用的内存量可能与文本本身一样多（或许更多，这取决于文本中有多少非单词字符）。如果只需迭代前几个单词，大多数工作都是白费力气。\n",
    "\n",
    "`re.finditer` 函数是 `re.findall` 函数的惰性版本，返回的不是列表，而是一个生成器，按需生成 `re.MatchObject` 实例。如果有很多匹配，`re.finditer`  函数能节省大量内存。我们要使用这个函数让下一版的 Sentence 类变得懒惰，即只在需要时才生成下一个单词。"
   ]
  },
  {
   "cell_type": "code",
   "execution_count": 2,
   "metadata": {
    "ExecuteTime": {
     "end_time": "2020-07-12T07:25:29.560692Z",
     "start_time": "2020-07-12T07:25:29.530487Z"
    }
   },
   "outputs": [],
   "source": [
    "import re\n",
    "import reprlib\n",
    "RE_WORD = re.compile('\\w+')\n",
    "class Sentence:\n",
    "    def __init__(self, text):\n",
    "        self.text = text \n",
    "    def __repr__(self):\n",
    "        return 'Sentence(%s)' % reprlib.repr(self.text)\n",
    "    def __iter__(self):\n",
    "        for match in RE_WORD.finditer(self.text): \n",
    "            yield match.group() "
   ]
  },
  {
   "cell_type": "markdown",
   "metadata": {},
   "source": [
    "## 生成器表达式"
   ]
  },
  {
   "cell_type": "markdown",
   "metadata": {},
   "source": [
    "* 生成器函数已经极大地简化了代码，但是使用生成器表达式甚至能把代码变得更简短；\n",
    "* 生成器表达式可以理解为**列表推导**的惰性版本：不会迫切地构建列表，而是返回一个生成器，按需惰性生成元素。如果列表推导是制造列表的工厂，那么生成器表达式就是制造生成器的工厂。"
   ]
  },
  {
   "cell_type": "markdown",
   "metadata": {},
   "source": [
    "使用生成器表达式实现 Sentence类："
   ]
  },
  {
   "cell_type": "code",
   "execution_count": 4,
   "metadata": {
    "ExecuteTime": {
     "end_time": "2020-07-12T07:29:59.887189Z",
     "start_time": "2020-07-12T07:29:59.869638Z"
    }
   },
   "outputs": [],
   "source": [
    "import re\n",
    "import reprlib\n",
    "RE_WORD = re.compile('\\w+')\n",
    "class Sentence:\n",
    "    def __init__(self, text):\n",
    "        self.text = text \n",
    "    def __repr__(self):\n",
    "        return 'Sentence(%s)' % reprlib.repr(self.text)\n",
    "    def __iter__(self):\n",
    "        return (match.group() for match in RE_WORD.finditer(self.text))"
   ]
  },
  {
   "cell_type": "markdown",
   "metadata": {},
   "source": [
    "## 生成器"
   ]
  },
  {
   "cell_type": "markdown",
   "metadata": {},
   "source": [
    "**迭代器与生成器**：\n",
    "1. 所有生成器都是迭代器，因为生成器完全实现了迭代器接口；\n",
    "2. 迭代器用于从集合中取出元素；而生成器用于“凭空”生成元素。\n",
    "\n",
    "通过斐波纳契数列能很好地说明二者之间的区别：斐波纳契数列中的数有无穷个，在一个集合里放不下。\n",
    "\n",
    "不过在 Python社区中，大多数时候都把迭代器和生成器视作同一概念。"
   ]
  },
  {
   "cell_type": "code",
   "execution_count": 62,
   "metadata": {
    "ExecuteTime": {
     "end_time": "2020-07-13T14:48:20.253033Z",
     "start_time": "2020-07-13T14:48:20.241020Z"
    }
   },
   "outputs": [],
   "source": [
    "def fibonacci():\n",
    "    a, b = 0, 1\n",
    "    while True:\n",
    "        yield a\n",
    "        a, b = b, a + b"
   ]
  },
  {
   "cell_type": "code",
   "execution_count": 63,
   "metadata": {
    "ExecuteTime": {
     "end_time": "2020-07-13T14:48:21.125452Z",
     "start_time": "2020-07-13T14:48:21.112997Z"
    }
   },
   "outputs": [
    {
     "data": {
      "text/plain": [
       "0"
      ]
     },
     "execution_count": 63,
     "metadata": {},
     "output_type": "execute_result"
    }
   ],
   "source": [
    "next(fibonacci())"
   ]
  },
  {
   "cell_type": "markdown",
   "metadata": {},
   "source": [
    "## 标准库中的生成器函数"
   ]
  },
  {
   "cell_type": "markdown",
   "metadata": {},
   "source": [
    "### 用于过滤"
   ]
  },
  {
   "cell_type": "markdown",
   "metadata": {},
   "source": [
    "* `itertools.compress(it,selector_it)`：并行处理两个可迭代的对象；如果 selector_it中的元素是真值，产出 it 中对应的元素"
   ]
  },
  {
   "cell_type": "code",
   "execution_count": 3,
   "metadata": {
    "ExecuteTime": {
     "end_time": "2020-07-13T13:40:55.039129Z",
     "start_time": "2020-07-13T13:40:55.030410Z"
    }
   },
   "outputs": [
    {
     "data": {
      "text/plain": [
       "[1, 3]"
      ]
     },
     "execution_count": 3,
     "metadata": {},
     "output_type": "execute_result"
    }
   ],
   "source": [
    "import itertools\n",
    "list(itertools.compress(range(7),[0,1,0,1]))"
   ]
  },
  {
   "cell_type": "markdown",
   "metadata": {
    "ExecuteTime": {
     "end_time": "2020-07-13T13:41:51.527341Z",
     "start_time": "2020-07-13T13:41:51.514015Z"
    }
   },
   "source": [
    "* `itertools.dropwhile(predicate,it)`：跳过 predicate 的计算结果为真值的元素，然后产出剩下的各个元素（不再进一步检查）;\n",
    "\n",
    "* `itertools.takewhile(predicate,it)`：predicate 返回真值时产出对应的元素，然后立即停止，不再继续检查"
   ]
  },
  {
   "cell_type": "code",
   "execution_count": 5,
   "metadata": {
    "ExecuteTime": {
     "end_time": "2020-07-13T13:47:17.779773Z",
     "start_time": "2020-07-13T13:47:17.766738Z"
    }
   },
   "outputs": [],
   "source": [
    "def vowel(c):\n",
    "    return c.lower() in 'aeiou'"
   ]
  },
  {
   "cell_type": "code",
   "execution_count": 6,
   "metadata": {
    "ExecuteTime": {
     "end_time": "2020-07-13T13:47:59.265087Z",
     "start_time": "2020-07-13T13:47:59.255118Z"
    }
   },
   "outputs": [
    {
     "data": {
      "text/plain": [
       "['r', 'd', 'v', 'a', 'r', 'k']"
      ]
     },
     "execution_count": 6,
     "metadata": {},
     "output_type": "execute_result"
    }
   ],
   "source": [
    "list(itertools.dropwhile(vowel,'Aardvark'))"
   ]
  },
  {
   "cell_type": "code",
   "execution_count": 11,
   "metadata": {
    "ExecuteTime": {
     "end_time": "2020-07-13T13:53:54.160619Z",
     "start_time": "2020-07-13T13:53:54.139669Z"
    }
   },
   "outputs": [
    {
     "data": {
      "text/plain": [
       "['A', 'a']"
      ]
     },
     "execution_count": 11,
     "metadata": {},
     "output_type": "execute_result"
    }
   ],
   "source": [
    "list(itertools.takewhile(vowel, 'Aardvark'))"
   ]
  },
  {
   "cell_type": "markdown",
   "metadata": {
    "ExecuteTime": {
     "end_time": "2020-07-13T13:49:27.871874Z",
     "start_time": "2020-07-13T13:49:27.858853Z"
    }
   },
   "source": [
    "* `filter(predicate, it)`(内置):把 it 中的各个元素传给 predicate，如果predicate(item) 返回真值，那么产出对应的元\n",
    "素；如果 predicate 是 None，那么只产出真值元素;\n",
    "\n",
    "* `itertools.filterfalse(predicate,it)`:与 `filter`函数的作用类似，不过 predicate 的逻辑是相反的：predicate 返回假值时产出对应\n",
    "的元素"
   ]
  },
  {
   "cell_type": "code",
   "execution_count": 8,
   "metadata": {
    "ExecuteTime": {
     "end_time": "2020-07-13T13:50:14.946502Z",
     "start_time": "2020-07-13T13:50:14.937231Z"
    }
   },
   "outputs": [
    {
     "data": {
      "text/plain": [
       "['A', 'a', 'a']"
      ]
     },
     "execution_count": 8,
     "metadata": {},
     "output_type": "execute_result"
    }
   ],
   "source": [
    "list(filter(vowel, 'Aardvark'))"
   ]
  },
  {
   "cell_type": "code",
   "execution_count": 9,
   "metadata": {
    "ExecuteTime": {
     "end_time": "2020-07-13T13:50:38.688149Z",
     "start_time": "2020-07-13T13:50:38.677847Z"
    }
   },
   "outputs": [
    {
     "data": {
      "text/plain": [
       "['r', 'd', 'v', 'r', 'k']"
      ]
     },
     "execution_count": 9,
     "metadata": {},
     "output_type": "execute_result"
    }
   ],
   "source": [
    "list(itertools.filterfalse(vowel, 'Aardvark'))"
   ]
  },
  {
   "cell_type": "markdown",
   "metadata": {},
   "source": [
    "* `itertools.islice(it, stop,step=1)`:产出 it 的切片，作用类似于 `s[:stop]` 或`s[start:stop:step]`，不过 it 可以是任何可迭代\n",
    "的对象，而且这个函数实现的是惰性操作"
   ]
  },
  {
   "cell_type": "code",
   "execution_count": 10,
   "metadata": {
    "ExecuteTime": {
     "end_time": "2020-07-13T13:52:51.398655Z",
     "start_time": "2020-07-13T13:52:51.388703Z"
    }
   },
   "outputs": [
    {
     "data": {
      "text/plain": [
       "['a', 'd', 'a']"
      ]
     },
     "execution_count": 10,
     "metadata": {},
     "output_type": "execute_result"
    }
   ],
   "source": [
    "list(itertools.islice('Aardvark', 1, 7, 2))"
   ]
  },
  {
   "cell_type": "markdown",
   "metadata": {},
   "source": [
    "### 用于映射"
   ]
  },
  {
   "cell_type": "markdown",
   "metadata": {},
   "source": [
    "* `itertools.accumulate(it,[func])`：产出累积的总和；如果提供了 func，那么把前两个元素传给它，然后把计算结果和下一个元素传给\n",
    "它，以此类推，最后产出结果"
   ]
  },
  {
   "cell_type": "code",
   "execution_count": 12,
   "metadata": {
    "ExecuteTime": {
     "end_time": "2020-07-13T13:56:06.480276Z",
     "start_time": "2020-07-13T13:56:06.470387Z"
    }
   },
   "outputs": [
    {
     "data": {
      "text/plain": [
       "[0, 1, 3, 6, 10, 15, 21]"
      ]
     },
     "execution_count": 12,
     "metadata": {},
     "output_type": "execute_result"
    }
   ],
   "source": [
    "list(itertools.accumulate(range(7)))"
   ]
  },
  {
   "cell_type": "code",
   "execution_count": 13,
   "metadata": {
    "ExecuteTime": {
     "end_time": "2020-07-13T13:56:55.885726Z",
     "start_time": "2020-07-13T13:56:55.869114Z"
    }
   },
   "outputs": [
    {
     "data": {
      "text/plain": [
       "[5, 5, 5, 8, 8, 8, 8, 8, 9, 9]"
      ]
     },
     "execution_count": 13,
     "metadata": {},
     "output_type": "execute_result"
    }
   ],
   "source": [
    "sample = [5, 4, 2, 8, 7, 6, 3, 0, 9, 1]\n",
    "list(itertools.accumulate(sample, max))"
   ]
  },
  {
   "cell_type": "markdown",
   "metadata": {},
   "source": [
    "* `enumerate(iterable,start=0)`：产出由两个元素组成的元组，结构是 (index,item)，其中 index 从 start 开始计数，item 则从\n",
    "iterable 中获取"
   ]
  },
  {
   "cell_type": "code",
   "execution_count": 15,
   "metadata": {
    "ExecuteTime": {
     "end_time": "2020-07-13T13:58:56.790071Z",
     "start_time": "2020-07-13T13:58:56.778273Z"
    }
   },
   "outputs": [
    {
     "data": {
      "text/plain": [
       "[(1, 0), (2, 1), (3, 2), (4, 3), (5, 4), (6, 5), (7, 6)]"
      ]
     },
     "execution_count": 15,
     "metadata": {},
     "output_type": "execute_result"
    }
   ],
   "source": [
    "list(enumerate(range(7),start=1))"
   ]
  },
  {
   "cell_type": "markdown",
   "metadata": {},
   "source": [
    "* `map(func, it1,[it2, ..., itN])`：把 it 中的各个元素传给func，产出结果；如果传入N 个可迭代的对象，那么 func 必须能接受 N 个参\n",
    "数，而且要并行处理各个可迭代的对象"
   ]
  },
  {
   "cell_type": "code",
   "execution_count": 16,
   "metadata": {
    "ExecuteTime": {
     "end_time": "2020-07-13T14:00:25.955009Z",
     "start_time": "2020-07-13T14:00:25.939793Z"
    }
   },
   "outputs": [
    {
     "data": {
      "text/plain": [
       "[(0, 2), (1, 4), (2, 8)]"
      ]
     },
     "execution_count": 16,
     "metadata": {},
     "output_type": "execute_result"
    }
   ],
   "source": [
    "list(map(lambda a, b: (a, b), range(11), [2, 4, 8]))"
   ]
  },
  {
   "cell_type": "markdown",
   "metadata": {},
   "source": [
    "* `itertools.starmap(func, it)`：把 it 中的各个元素传给 func，产出结果；输入的可迭代对象应该产出可迭代的元素 iit，然后以func(*iit) 这种形式调用 func"
   ]
  },
  {
   "cell_type": "code",
   "execution_count": 19,
   "metadata": {
    "ExecuteTime": {
     "end_time": "2020-07-13T14:03:39.243410Z",
     "start_time": "2020-07-13T14:03:39.229374Z"
    }
   },
   "outputs": [
    {
     "data": {
      "text/plain": [
       "['a', 'll', 'bbb', 'aaaa', 'ttttt', 'rrrrrr', 'ooooooo', 'zzzzzzzz']"
      ]
     },
     "execution_count": 19,
     "metadata": {},
     "output_type": "execute_result"
    }
   ],
   "source": [
    "import operator\n",
    "list(itertools.starmap(operator.mul, enumerate('albatroz', 1)))"
   ]
  },
  {
   "cell_type": "markdown",
   "metadata": {},
   "source": [
    "### 合并多个可迭代对象"
   ]
  },
  {
   "cell_type": "markdown",
   "metadata": {},
   "source": [
    "* `itertools chain(it1, ..., itN)`：先产出 it1 中的所有元素，然后产出 it2 中的所有元素，以此类推，无缝连接在一起;\n",
    "\n",
    "* `itertools.chain.from_iterable(it)`：产出 it 生成的各个可迭代对象中的元素，一个接一个，无缝连接在一起；it 应该产出可迭代的元素，例如可迭代的对象列表"
   ]
  },
  {
   "cell_type": "code",
   "execution_count": 20,
   "metadata": {
    "ExecuteTime": {
     "end_time": "2020-07-13T14:06:18.045211Z",
     "start_time": "2020-07-13T14:06:18.032901Z"
    }
   },
   "outputs": [
    {
     "data": {
      "text/plain": [
       "['A', 'B', 'C', 0, 1]"
      ]
     },
     "execution_count": 20,
     "metadata": {},
     "output_type": "execute_result"
    }
   ],
   "source": [
    "list(itertools.chain('ABC', range(2)))"
   ]
  },
  {
   "cell_type": "code",
   "execution_count": 21,
   "metadata": {
    "ExecuteTime": {
     "end_time": "2020-07-13T14:07:33.730187Z",
     "start_time": "2020-07-13T14:07:33.718156Z"
    }
   },
   "outputs": [
    {
     "data": {
      "text/plain": [
       "[0, 'A', 1, 'B', 2, 'C']"
      ]
     },
     "execution_count": 21,
     "metadata": {},
     "output_type": "execute_result"
    }
   ],
   "source": [
    "list(itertools.chain.from_iterable(enumerate('ABC')))"
   ]
  },
  {
   "cell_type": "markdown",
   "metadata": {
    "ExecuteTime": {
     "end_time": "2020-07-13T14:07:45.736129Z",
     "start_time": "2020-07-13T14:07:45.728176Z"
    }
   },
   "source": [
    "* `itertools.product(it1, ..., itN,repeat=1)`：计算笛卡儿积：从输入的各个可迭代对象中获取元素，合并成由 N 个元素组成的元组，与嵌套的 for 循环效果一样；repeat 指明重复处理多少次输入的可迭代对象"
   ]
  },
  {
   "cell_type": "code",
   "execution_count": 27,
   "metadata": {
    "ExecuteTime": {
     "end_time": "2020-07-13T14:09:51.223444Z",
     "start_time": "2020-07-13T14:09:51.209160Z"
    }
   },
   "outputs": [
    {
     "data": {
      "text/plain": [
       "[('A', 0), ('A', 1), ('B', 0), ('B', 1), ('C', 0), ('C', 1)]"
      ]
     },
     "execution_count": 27,
     "metadata": {},
     "output_type": "execute_result"
    }
   ],
   "source": [
    "list(itertools.product('ABC', range(2)))"
   ]
  },
  {
   "cell_type": "code",
   "execution_count": 28,
   "metadata": {
    "ExecuteTime": {
     "end_time": "2020-07-13T14:10:11.576409Z",
     "start_time": "2020-07-13T14:10:11.566617Z"
    }
   },
   "outputs": [
    {
     "data": {
      "text/plain": [
       "[('A', 'A'),\n",
       " ('A', 'B'),\n",
       " ('A', 'C'),\n",
       " ('B', 'A'),\n",
       " ('B', 'B'),\n",
       " ('B', 'C'),\n",
       " ('C', 'A'),\n",
       " ('C', 'B'),\n",
       " ('C', 'C')]"
      ]
     },
     "execution_count": 28,
     "metadata": {},
     "output_type": "execute_result"
    }
   ],
   "source": [
    "list(itertools.product('ABC', repeat=2))"
   ]
  },
  {
   "cell_type": "code",
   "execution_count": 29,
   "metadata": {
    "ExecuteTime": {
     "end_time": "2020-07-13T14:10:38.915353Z",
     "start_time": "2020-07-13T14:10:38.896130Z"
    }
   },
   "outputs": [
    {
     "name": "stdout",
     "output_type": "stream",
     "text": [
      "('A', 0, 'A', 0)\n",
      "('A', 0, 'A', 1)\n",
      "('A', 0, 'B', 0)\n",
      "('A', 0, 'B', 1)\n",
      "('A', 1, 'A', 0)\n",
      "('A', 1, 'A', 1)\n",
      "('A', 1, 'B', 0)\n",
      "('A', 1, 'B', 1)\n",
      "('B', 0, 'A', 0)\n",
      "('B', 0, 'A', 1)\n",
      "('B', 0, 'B', 0)\n",
      "('B', 0, 'B', 1)\n",
      "('B', 1, 'A', 0)\n",
      "('B', 1, 'A', 1)\n",
      "('B', 1, 'B', 0)\n",
      "('B', 1, 'B', 1)\n"
     ]
    }
   ],
   "source": [
    "rows = itertools.product('AB', range(2), repeat=2)\n",
    "for row in rows: \n",
    "    print(row)"
   ]
  },
  {
   "cell_type": "markdown",
   "metadata": {},
   "source": [
    "* `zip(it1, ..., itN)`：并行从输入的各个可迭代对象中获取元素，产出由 N 个元素组成的元组，只要有一个可迭代的对象到头了，就默默地停止；\n",
    "\n",
    "* `itertools.zip_longest(it1, ...,itN, fillvalue=None)`：并行从输入的各个可迭代对象中获取元素，产出由 N 个元素组成的元组，等到最长的可迭代对象到头后才停止，空缺的值使用 fillvalue填充"
   ]
  },
  {
   "cell_type": "code",
   "execution_count": 30,
   "metadata": {
    "ExecuteTime": {
     "end_time": "2020-07-13T14:13:22.344732Z",
     "start_time": "2020-07-13T14:13:22.333631Z"
    }
   },
   "outputs": [
    {
     "data": {
      "text/plain": [
       "[('A', 0, 10), ('B', 1, 20), ('C', 2, 30)]"
      ]
     },
     "execution_count": 30,
     "metadata": {},
     "output_type": "execute_result"
    }
   ],
   "source": [
    "list(zip('ABC', range(5), [10, 20, 30, 40]))"
   ]
  },
  {
   "cell_type": "code",
   "execution_count": 32,
   "metadata": {
    "ExecuteTime": {
     "end_time": "2020-07-13T14:13:58.211327Z",
     "start_time": "2020-07-13T14:13:58.196050Z"
    }
   },
   "outputs": [
    {
     "data": {
      "text/plain": [
       "[('A', 0, 10), ('B', 1, 20), ('C', 2, 30)]"
      ]
     },
     "execution_count": 32,
     "metadata": {},
     "output_type": "execute_result"
    }
   ],
   "source": [
    "list(map(lambda x,y,z:(x,y,z),'ABC', range(5), [10, 20, 30, 40]))"
   ]
  },
  {
   "cell_type": "code",
   "execution_count": 33,
   "metadata": {
    "ExecuteTime": {
     "end_time": "2020-07-13T14:14:48.196220Z",
     "start_time": "2020-07-13T14:14:48.183599Z"
    }
   },
   "outputs": [
    {
     "data": {
      "text/plain": [
       "[('A', 0), ('B', 1), ('C', 2), (None, 3), (None, 4)]"
      ]
     },
     "execution_count": 33,
     "metadata": {},
     "output_type": "execute_result"
    }
   ],
   "source": [
    "list(itertools.zip_longest('ABC', range(5)))"
   ]
  },
  {
   "cell_type": "code",
   "execution_count": 34,
   "metadata": {
    "ExecuteTime": {
     "end_time": "2020-07-13T14:14:48.924641Z",
     "start_time": "2020-07-13T14:14:48.909373Z"
    }
   },
   "outputs": [
    {
     "data": {
      "text/plain": [
       "[('A', 0), ('B', 1), ('C', 2), ('?', 3), ('?', 4)]"
      ]
     },
     "execution_count": 34,
     "metadata": {},
     "output_type": "execute_result"
    }
   ],
   "source": [
    "list(itertools.zip_longest('ABC', range(5), fillvalue='?'))"
   ]
  },
  {
   "cell_type": "markdown",
   "metadata": {},
   "source": [
    "### 扩展元素"
   ]
  },
  {
   "cell_type": "markdown",
   "metadata": {},
   "source": [
    "* `itertools.combinations(it, out_len)`: 把 it 产出的 out_len 个元素组合在一起，然后产出;\n",
    "\n",
    "* `itertools.combinations_with_replacement(it,out_len)`: 把 it 产出的 out_len 个元素组合在一起，然后产出，包含相同元素的组合;\n",
    "\n",
    "* `itertools.permutations(it, out_len=None)`: 把 out_len 个 it 产出的元素排列在一起，然后产出这些排列；out_len的默认值等于 len(list(it));"
   ]
  },
  {
   "cell_type": "code",
   "execution_count": 35,
   "metadata": {
    "ExecuteTime": {
     "end_time": "2020-07-13T14:22:22.720934Z",
     "start_time": "2020-07-13T14:22:22.712282Z"
    }
   },
   "outputs": [
    {
     "data": {
      "text/plain": [
       "[('A', 'B'), ('A', 'C'), ('B', 'C')]"
      ]
     },
     "execution_count": 35,
     "metadata": {},
     "output_type": "execute_result"
    }
   ],
   "source": [
    "list(itertools.combinations('ABC', 2))"
   ]
  },
  {
   "cell_type": "code",
   "execution_count": 36,
   "metadata": {
    "ExecuteTime": {
     "end_time": "2020-07-13T14:23:13.081278Z",
     "start_time": "2020-07-13T14:23:13.068496Z"
    }
   },
   "outputs": [
    {
     "data": {
      "text/plain": [
       "[('A', 'A'), ('A', 'B'), ('A', 'C'), ('B', 'B'), ('B', 'C'), ('C', 'C')]"
      ]
     },
     "execution_count": 36,
     "metadata": {},
     "output_type": "execute_result"
    }
   ],
   "source": [
    "list(itertools.combinations_with_replacement('ABC', 2))"
   ]
  },
  {
   "cell_type": "code",
   "execution_count": 40,
   "metadata": {
    "ExecuteTime": {
     "end_time": "2020-07-13T14:29:19.757235Z",
     "start_time": "2020-07-13T14:29:19.747143Z"
    }
   },
   "outputs": [
    {
     "data": {
      "text/plain": [
       "[('A', 'B'), ('A', 'C'), ('B', 'A'), ('B', 'C'), ('C', 'A'), ('C', 'B')]"
      ]
     },
     "execution_count": 40,
     "metadata": {},
     "output_type": "execute_result"
    }
   ],
   "source": [
    "list(itertools.permutations('ABC', 2))"
   ]
  },
  {
   "cell_type": "markdown",
   "metadata": {},
   "source": [
    "* `itertools.count(start=0, step=1)`: 从 start 开始不断产出数字，按step 指定的步幅增加;\n",
    "* `itertools.cycle(it)`: 从 it 中产出各个元素，存储各个元素的副本，然后按顺序重复不断地产出各个元素;\n",
    "* `itertools.repeat(item, [times])`: 重复不断地产出指定的元素，除非提供 times，指定次数;\n",
    "\n",
    "备注：前两个生成器只有受到 islice 函数的限制，才能构建列表，否则会变成一个无穷列表"
   ]
  },
  {
   "cell_type": "code",
   "execution_count": 37,
   "metadata": {
    "ExecuteTime": {
     "end_time": "2020-07-13T14:27:10.600646Z",
     "start_time": "2020-07-13T14:27:10.586051Z"
    }
   },
   "outputs": [
    {
     "data": {
      "text/plain": [
       "[1, 1.3, 1.6]"
      ]
     },
     "execution_count": 37,
     "metadata": {},
     "output_type": "execute_result"
    }
   ],
   "source": [
    "list(itertools.islice(itertools.count(1, .3), 3))"
   ]
  },
  {
   "cell_type": "code",
   "execution_count": 38,
   "metadata": {
    "ExecuteTime": {
     "end_time": "2020-07-13T14:27:37.702280Z",
     "start_time": "2020-07-13T14:27:37.687868Z"
    }
   },
   "outputs": [
    {
     "data": {
      "text/plain": [
       "['A', 'B', 'C', 'A', 'B', 'C', 'A']"
      ]
     },
     "execution_count": 38,
     "metadata": {},
     "output_type": "execute_result"
    }
   ],
   "source": [
    "list(itertools.islice(itertools.cycle('ABC'), 7))"
   ]
  },
  {
   "cell_type": "code",
   "execution_count": 39,
   "metadata": {
    "ExecuteTime": {
     "end_time": "2020-07-13T14:28:40.564523Z",
     "start_time": "2020-07-13T14:28:40.555404Z"
    }
   },
   "outputs": [
    {
     "data": {
      "text/plain": [
       "[8, 8, 8, 8]"
      ]
     },
     "execution_count": 39,
     "metadata": {},
     "output_type": "execute_result"
    }
   ],
   "source": [
    "list(itertools.repeat(8, 4))"
   ]
  },
  {
   "cell_type": "markdown",
   "metadata": {},
   "source": [
    "### 用于重新排列元素"
   ]
  },
  {
   "cell_type": "markdown",
   "metadata": {},
   "source": [
    "* `itertools.groupby(it,key=None)`:产出由两个元素组成的元素，形式为 (key,group)，其中 key 是分组标准，group 是生成器，用于产出分组里的元素;\n",
    "* `reversed(seq)`:从后向前，倒序产出 seq 中的元素；seq 必须是序列，或者是实现了 __reversed__ 特殊方法的对象;\n",
    "* `itertools.tee(it, n=2)`:产出一个由 n 个生成器组成的元组，每个生成器用于单独产出输入的可迭代对象中的元素;"
   ]
  },
  {
   "cell_type": "markdown",
   "metadata": {},
   "source": [
    "备注：内置的 reversed 函数，是本节所述的函数中唯一一个不接受可迭代的对象，而只接受序列为参数的函数。这在情理之中，因为\n",
    "reversed 函数从后向前产出元素，而只有序列的长度已知时才能工作。"
   ]
  },
  {
   "cell_type": "code",
   "execution_count": 41,
   "metadata": {
    "ExecuteTime": {
     "end_time": "2020-07-13T14:32:02.885937Z",
     "start_time": "2020-07-13T14:32:02.876630Z"
    }
   },
   "outputs": [
    {
     "data": {
      "text/plain": [
       "[('L', <itertools._grouper at 0x20d6f7b5c18>),\n",
       " ('A', <itertools._grouper at 0x20d6f7b5eb8>),\n",
       " ('G', <itertools._grouper at 0x20d6f7b5128>)]"
      ]
     },
     "execution_count": 41,
     "metadata": {},
     "output_type": "execute_result"
    }
   ],
   "source": [
    "list(itertools.groupby('LLLLAAGGG'))"
   ]
  },
  {
   "cell_type": "code",
   "execution_count": 42,
   "metadata": {
    "ExecuteTime": {
     "end_time": "2020-07-13T14:32:23.000512Z",
     "start_time": "2020-07-13T14:32:22.987789Z"
    }
   },
   "outputs": [
    {
     "name": "stdout",
     "output_type": "stream",
     "text": [
      "L -> ['L', 'L', 'L', 'L']\n",
      "A -> ['A', 'A', 'A']\n",
      "G -> ['G', 'G']\n"
     ]
    }
   ],
   "source": [
    "for char, group in itertools.groupby('LLLLAAAGG'): \n",
    "    print(char, '->', list(group))"
   ]
  },
  {
   "cell_type": "code",
   "execution_count": 43,
   "metadata": {
    "ExecuteTime": {
     "end_time": "2020-07-13T14:33:42.417123Z",
     "start_time": "2020-07-13T14:33:42.401473Z"
    }
   },
   "outputs": [
    {
     "data": {
      "text/plain": [
       "['rat', 'bat', 'duck', 'bear', 'lion', 'eagle', 'shark', 'giraffe', 'dolphin']"
      ]
     },
     "execution_count": 43,
     "metadata": {},
     "output_type": "execute_result"
    }
   ],
   "source": [
    "animals = ['duck', 'eagle', 'rat', 'giraffe', 'bear','bat', 'dolphin', 'shark', 'lion']\n",
    "animals.sort(key=len)\n",
    "animals"
   ]
  },
  {
   "cell_type": "code",
   "execution_count": 44,
   "metadata": {
    "ExecuteTime": {
     "end_time": "2020-07-13T14:33:58.864162Z",
     "start_time": "2020-07-13T14:33:58.854988Z"
    }
   },
   "outputs": [
    {
     "name": "stdout",
     "output_type": "stream",
     "text": [
      "3 -> ['rat', 'bat']\n",
      "4 -> ['duck', 'bear', 'lion']\n",
      "5 -> ['eagle', 'shark']\n",
      "7 -> ['giraffe', 'dolphin']\n"
     ]
    }
   ],
   "source": [
    "for length, group in itertools.groupby(animals, len): \n",
    "    print(length, '->', list(group))"
   ]
  },
  {
   "cell_type": "code",
   "execution_count": 45,
   "metadata": {
    "ExecuteTime": {
     "end_time": "2020-07-13T14:34:43.113213Z",
     "start_time": "2020-07-13T14:34:43.099669Z"
    }
   },
   "outputs": [
    {
     "name": "stdout",
     "output_type": "stream",
     "text": [
      "7 -> ['dolphin', 'giraffe']\n",
      "5 -> ['shark', 'eagle']\n",
      "4 -> ['lion', 'bear', 'duck']\n",
      "3 -> ['bat', 'rat']\n"
     ]
    }
   ],
   "source": [
    "for length, group in itertools.groupby(reversed(animals), len):\n",
    "    print(length, '->', list(group))"
   ]
  },
  {
   "cell_type": "code",
   "execution_count": 54,
   "metadata": {
    "ExecuteTime": {
     "end_time": "2020-07-13T14:42:50.843975Z",
     "start_time": "2020-07-13T14:42:50.832182Z"
    }
   },
   "outputs": [
    {
     "data": {
      "text/plain": [
       "[<itertools._tee at 0x20d6ec344c8>, <itertools._tee at 0x20d6ec34908>]"
      ]
     },
     "execution_count": 54,
     "metadata": {},
     "output_type": "execute_result"
    }
   ],
   "source": [
    "list(itertools.tee('abc'))"
   ]
  },
  {
   "cell_type": "code",
   "execution_count": 66,
   "metadata": {
    "ExecuteTime": {
     "end_time": "2020-07-13T14:51:10.476777Z",
     "start_time": "2020-07-13T14:51:10.464981Z"
    }
   },
   "outputs": [
    {
     "data": {
      "text/plain": [
       "[('a', 'a', 'a'), ('b', 'b', 'b'), ('c', 'c', 'c')]"
      ]
     },
     "execution_count": 66,
     "metadata": {},
     "output_type": "execute_result"
    }
   ],
   "source": [
    "g1,g2,g3=itertools.tee('abc',3)\n",
    "list(zip(g1,g2,g3))"
   ]
  },
  {
   "cell_type": "markdown",
   "metadata": {},
   "source": [
    "# with 语句和上下文管理器"
   ]
  },
  {
   "cell_type": "markdown",
   "metadata": {},
   "source": [
    "```python\n",
    "# create/aquire some resource\n",
    "...\n",
    "try:\n",
    "    # do something with the resource\n",
    "    ...\n",
    "finally:\n",
    "    # destroy/release the resource\n",
    "    ...\n",
    "```\n",
    "\n",
    "处理文件，线程，数据库，网络编程等等资源的时候，我们经常需要使用上面这样的代码形式，以确保资源的正常使用和释放。\n",
    "\n",
    "好在`Python` 提供了 `with` 语句帮我们自动进行这样的处理，例如之前在打开文件时我们使用： "
   ]
  },
  {
   "cell_type": "code",
   "execution_count": 1,
   "metadata": {
    "ExecuteTime": {
     "end_time": "2019-10-15T17:11:20.597118Z",
     "start_time": "2019-10-15T17:11:20.589117Z"
    }
   },
   "outputs": [],
   "source": [
    "with open('my_file', 'w') as fp:\n",
    "    # do stuff with fp\n",
    "    data = fp.write(\"Hello world\")"
   ]
  },
  {
   "cell_type": "markdown",
   "metadata": {},
   "source": [
    "这等效于下面的代码，但是要更简便："
   ]
  },
  {
   "cell_type": "code",
   "execution_count": 2,
   "metadata": {
    "ExecuteTime": {
     "end_time": "2019-10-15T17:11:21.660178Z",
     "start_time": "2019-10-15T17:11:21.655178Z"
    }
   },
   "outputs": [],
   "source": [
    "fp = open('my_file', 'w')\n",
    "try:\n",
    "    # do stuff with f\n",
    "    data = fp.write(\"Hello world\")\n",
    "finally:\n",
    "    fp.close()"
   ]
  },
  {
   "cell_type": "markdown",
   "metadata": {},
   "source": [
    "## 上下文管理器"
   ]
  },
  {
   "cell_type": "markdown",
   "metadata": {},
   "source": [
    "其基本用法如下：\n",
    "```\n",
    "with <expression>:\n",
    "    <block>\n",
    "```\n",
    "\n",
    "`<expression>` 执行的结果应当返回一个实现了上下文管理器的对象，即实现这样两个方法，`__enter__` 和 `__exit__`："
   ]
  },
  {
   "cell_type": "code",
   "execution_count": 3,
   "metadata": {
    "ExecuteTime": {
     "end_time": "2019-10-15T17:12:02.351506Z",
     "start_time": "2019-10-15T17:12:02.338505Z"
    }
   },
   "outputs": [
    {
     "name": "stdout",
     "output_type": "stream",
     "text": [
      "<built-in method __enter__ of _io.TextIOWrapper object at 0x000000000567B558>\n",
      "<built-in method __exit__ of _io.TextIOWrapper object at 0x000000000567B558>\n"
     ]
    }
   ],
   "source": [
    "print (fp.__enter__)\n",
    "print (fp.__exit__)"
   ]
  },
  {
   "cell_type": "markdown",
   "metadata": {},
   "source": [
    "`__enter__` 方法在 `<block>` 执行前执行，而 `__exit__` 在 `<block>` 执行结束后执行：\n",
    "\n",
    "比如可以这样定义一个简单的上下文管理器："
   ]
  },
  {
   "cell_type": "code",
   "execution_count": 4,
   "metadata": {
    "ExecuteTime": {
     "end_time": "2019-10-15T17:12:41.667673Z",
     "start_time": "2019-10-15T17:12:41.649672Z"
    }
   },
   "outputs": [],
   "source": [
    "class ContextManager(object):\n",
    "    \n",
    "    def __enter__(self):\n",
    "        print (\"Entering\")\n",
    "    \n",
    "    def __exit__(self, exc_type, exc_value, traceback):\n",
    "        print (\"Exiting\")"
   ]
  },
  {
   "cell_type": "markdown",
   "metadata": {},
   "source": [
    "使用 `with` 语句执行："
   ]
  },
  {
   "cell_type": "code",
   "execution_count": 5,
   "metadata": {
    "ExecuteTime": {
     "end_time": "2019-10-15T17:13:00.453745Z",
     "start_time": "2019-10-15T17:13:00.442745Z"
    }
   },
   "outputs": [
    {
     "name": "stdout",
     "output_type": "stream",
     "text": [
      "Entering\n",
      "  Inside the with statement\n",
      "Exiting\n"
     ]
    }
   ],
   "source": [
    "with ContextManager():\n",
    "    print (\"  Inside the with statement\")"
   ]
  },
  {
   "cell_type": "markdown",
   "metadata": {},
   "source": [
    "即使 `<block>` 中执行的内容出错，`__exit__` 也会被执行："
   ]
  },
  {
   "cell_type": "code",
   "execution_count": 6,
   "metadata": {
    "ExecuteTime": {
     "end_time": "2019-10-15T17:13:16.694674Z",
     "start_time": "2019-10-15T17:13:16.444660Z"
    }
   },
   "outputs": [
    {
     "name": "stdout",
     "output_type": "stream",
     "text": [
      "Entering\n",
      "Exiting\n"
     ]
    },
    {
     "ename": "ZeroDivisionError",
     "evalue": "division by zero",
     "output_type": "error",
     "traceback": [
      "\u001b[1;31m---------------------------------------------------------------------------\u001b[0m",
      "\u001b[1;31mZeroDivisionError\u001b[0m                         Traceback (most recent call last)",
      "\u001b[1;32m<ipython-input-6-ada04d4fc361>\u001b[0m in \u001b[0;36m<module>\u001b[1;34m()\u001b[0m\n\u001b[0;32m      1\u001b[0m \u001b[1;32mwith\u001b[0m \u001b[0mContextManager\u001b[0m\u001b[1;33m(\u001b[0m\u001b[1;33m)\u001b[0m\u001b[1;33m:\u001b[0m\u001b[1;33m\u001b[0m\u001b[1;33m\u001b[0m\u001b[0m\n\u001b[1;32m----> 2\u001b[1;33m     \u001b[0mprint\u001b[0m \u001b[1;33m(\u001b[0m\u001b[1;36m1\u001b[0m\u001b[1;33m/\u001b[0m\u001b[1;36m0\u001b[0m\u001b[1;33m)\u001b[0m\u001b[1;33m\u001b[0m\u001b[1;33m\u001b[0m\u001b[0m\n\u001b[0m",
      "\u001b[1;31mZeroDivisionError\u001b[0m: division by zero"
     ]
    }
   ],
   "source": [
    "with ContextManager():\n",
    "    print (1/0)"
   ]
  },
  {
   "cell_type": "markdown",
   "metadata": {},
   "source": [
    "## `__`enter`__` 的返回值"
   ]
  },
  {
   "cell_type": "markdown",
   "metadata": {},
   "source": [
    "如果在 `__enter__` 方法下添加了返回值，那么我们可以使用 `as` 把这个返回值传给某个参数："
   ]
  },
  {
   "cell_type": "code",
   "execution_count": 7,
   "metadata": {
    "ExecuteTime": {
     "end_time": "2019-10-15T17:13:53.427707Z",
     "start_time": "2019-10-15T17:13:53.412706Z"
    }
   },
   "outputs": [],
   "source": [
    "class ContextManager(object):\n",
    "    \n",
    "    def __enter__(self):\n",
    "        print (\"Entering\")\n",
    "        return \"my value\"\n",
    "    \n",
    "    def __exit__(self, exc_type, exc_value, traceback):\n",
    "        print (\"Exiting\")"
   ]
  },
  {
   "cell_type": "markdown",
   "metadata": {},
   "source": [
    "将 `__enter__` 返回的值传给 `value` 变量："
   ]
  },
  {
   "cell_type": "code",
   "execution_count": 8,
   "metadata": {
    "ExecuteTime": {
     "end_time": "2019-10-15T17:14:09.723639Z",
     "start_time": "2019-10-15T17:14:09.707638Z"
    }
   },
   "outputs": [
    {
     "name": "stdout",
     "output_type": "stream",
     "text": [
      "Entering\n",
      "my value\n",
      "Exiting\n"
     ]
    }
   ],
   "source": [
    "with ContextManager() as value:\n",
    "    print (value)"
   ]
  },
  {
   "cell_type": "markdown",
   "metadata": {},
   "source": [
    "一个通常的做法是将 `__enter__` 的返回值设为这个上下文管理器对象本身，文件对象就是这样做的："
   ]
  },
  {
   "cell_type": "code",
   "execution_count": 9,
   "metadata": {
    "ExecuteTime": {
     "end_time": "2019-10-15T17:14:31.939909Z",
     "start_time": "2019-10-15T17:14:31.921908Z"
    }
   },
   "outputs": [
    {
     "name": "stdout",
     "output_type": "stream",
     "text": [
      "<_io.TextIOWrapper name='my_file' mode='r' encoding='cp936'>\n"
     ]
    }
   ],
   "source": [
    "fp = open('my_file', 'r')\n",
    "print (fp.__enter__())\n",
    "fp.close()"
   ]
  },
  {
   "cell_type": "code",
   "execution_count": 10,
   "metadata": {
    "ExecuteTime": {
     "end_time": "2019-10-15T17:14:39.277329Z",
     "start_time": "2019-10-15T17:14:39.267328Z"
    }
   },
   "outputs": [],
   "source": [
    "import os\n",
    "os.remove('my_file')"
   ]
  },
  {
   "cell_type": "markdown",
   "metadata": {},
   "source": [
    "实现方法非常简单："
   ]
  },
  {
   "cell_type": "code",
   "execution_count": 12,
   "metadata": {
    "ExecuteTime": {
     "end_time": "2019-10-15T17:15:10.106092Z",
     "start_time": "2019-10-15T17:15:10.086091Z"
    }
   },
   "outputs": [],
   "source": [
    "class ContextManager(object):\n",
    "    \n",
    "    def __enter__(self):\n",
    "        print (\"Entering\")\n",
    "        return self\n",
    "    \n",
    "    def __exit__(self, exc_type, exc_value, traceback):\n",
    "        print (\"Exiting\")"
   ]
  },
  {
   "cell_type": "code",
   "execution_count": 13,
   "metadata": {
    "ExecuteTime": {
     "end_time": "2019-10-15T17:15:17.872537Z",
     "start_time": "2019-10-15T17:15:17.856536Z"
    }
   },
   "outputs": [
    {
     "name": "stdout",
     "output_type": "stream",
     "text": [
      "Entering\n",
      "<__main__.ContextManager object at 0x00000000056D7F98>\n",
      "Exiting\n"
     ]
    }
   ],
   "source": [
    "with ContextManager() as value:\n",
    "    print (value)"
   ]
  },
  {
   "cell_type": "markdown",
   "metadata": {},
   "source": [
    "## 错误处理"
   ]
  },
  {
   "cell_type": "markdown",
   "metadata": {},
   "source": [
    "上下文管理器对象将错误处理交给 `__exit__` 进行，可以将错误类型，错误值和 `traceback` 等内容作为参数传递给 `__exit__` 函数："
   ]
  },
  {
   "cell_type": "code",
   "execution_count": 14,
   "metadata": {
    "ExecuteTime": {
     "end_time": "2019-10-15T17:15:41.467886Z",
     "start_time": "2019-10-15T17:15:41.453885Z"
    }
   },
   "outputs": [],
   "source": [
    "class ContextManager(object):\n",
    "    \n",
    "    def __enter__(self):\n",
    "        print (\"Entering\")\n",
    "    \n",
    "    def __exit__(self, exc_type, exc_value, traceback):\n",
    "        print (\"Exiting\")\n",
    "        if exc_type is not None:\n",
    "            print (\"  Exception:\", exc_value)"
   ]
  },
  {
   "cell_type": "markdown",
   "metadata": {},
   "source": [
    "如果没有错误，这些值都将是 `None`, 当有错误发生的时候："
   ]
  },
  {
   "cell_type": "code",
   "execution_count": 15,
   "metadata": {
    "ExecuteTime": {
     "end_time": "2019-10-15T17:16:00.528976Z",
     "start_time": "2019-10-15T17:16:00.514976Z"
    }
   },
   "outputs": [
    {
     "name": "stdout",
     "output_type": "stream",
     "text": [
      "Entering\n",
      "Exiting\n",
      "  Exception: division by zero\n"
     ]
    },
    {
     "ename": "ZeroDivisionError",
     "evalue": "division by zero",
     "output_type": "error",
     "traceback": [
      "\u001b[1;31m---------------------------------------------------------------------------\u001b[0m",
      "\u001b[1;31mZeroDivisionError\u001b[0m                         Traceback (most recent call last)",
      "\u001b[1;32m<ipython-input-15-8ff8ee2e0cec>\u001b[0m in \u001b[0;36m<module>\u001b[1;34m()\u001b[0m\n\u001b[0;32m      1\u001b[0m \u001b[1;32mwith\u001b[0m \u001b[0mContextManager\u001b[0m\u001b[1;33m(\u001b[0m\u001b[1;33m)\u001b[0m\u001b[1;33m:\u001b[0m\u001b[1;33m\u001b[0m\u001b[1;33m\u001b[0m\u001b[0m\n\u001b[1;32m----> 2\u001b[1;33m     \u001b[0mprint\u001b[0m\u001b[1;33m(\u001b[0m \u001b[1;36m1\u001b[0m\u001b[1;33m/\u001b[0m\u001b[1;36m0\u001b[0m\u001b[1;33m)\u001b[0m\u001b[1;33m\u001b[0m\u001b[1;33m\u001b[0m\u001b[0m\n\u001b[0m",
      "\u001b[1;31mZeroDivisionError\u001b[0m: division by zero"
     ]
    }
   ],
   "source": [
    "with ContextManager():\n",
    "    print( 1/0)"
   ]
  },
  {
   "cell_type": "markdown",
   "metadata": {},
   "source": [
    "在这个例子中，我们只是简单的显示了错误的值，并没有对错误进行处理，所以错误被向上抛出了，如果不想让错误抛出，只需要将 `__exit__` 的返回值设为 `True`： "
   ]
  },
  {
   "cell_type": "code",
   "execution_count": 16,
   "metadata": {
    "ExecuteTime": {
     "end_time": "2019-10-15T17:16:28.033550Z",
     "start_time": "2019-10-15T17:16:28.016549Z"
    }
   },
   "outputs": [],
   "source": [
    "class ContextManager(object):\n",
    "    \n",
    "    def __enter__(self):\n",
    "        print (\"Entering\")\n",
    "    \n",
    "    def __exit__(self, exc_type, exc_value, traceback):\n",
    "        print (\"Exiting\")\n",
    "        if exc_type is not None:\n",
    "            print (\"  Exception:\", exc_value)\n",
    "            return True"
   ]
  },
  {
   "cell_type": "code",
   "execution_count": 17,
   "metadata": {
    "ExecuteTime": {
     "end_time": "2019-10-15T17:16:34.312909Z",
     "start_time": "2019-10-15T17:16:34.297908Z"
    }
   },
   "outputs": [
    {
     "name": "stdout",
     "output_type": "stream",
     "text": [
      "Entering\n",
      "Exiting\n",
      "  Exception: division by zero\n"
     ]
    }
   ],
   "source": [
    "with ContextManager():\n",
    "    print( 1/0)"
   ]
  },
  {
   "cell_type": "markdown",
   "metadata": {},
   "source": [
    "在这种情况下，错误就不会被向上抛出。"
   ]
  },
  {
   "cell_type": "markdown",
   "metadata": {},
   "source": [
    "# 装饰器及其使用"
   ]
  },
  {
   "cell_type": "markdown",
   "metadata": {},
   "source": [
    "## 函数是一种对象"
   ]
  },
  {
   "cell_type": "markdown",
   "metadata": {},
   "source": [
    "在 `Python` 中，函数是也是一种对象。"
   ]
  },
  {
   "cell_type": "code",
   "execution_count": 29,
   "metadata": {
    "ExecuteTime": {
     "end_time": "2019-10-16T15:41:15.230208Z",
     "start_time": "2019-10-16T15:41:15.219208Z"
    }
   },
   "outputs": [
    {
     "name": "stdout",
     "output_type": "stream",
     "text": [
      "<class 'function'>\n"
     ]
    }
   ],
   "source": [
    "def foo(x):\n",
    "    return x+1\n",
    "    \n",
    "print(type(foo))"
   ]
  },
  {
   "cell_type": "code",
   "execution_count": 30,
   "metadata": {
    "ExecuteTime": {
     "end_time": "2019-10-16T15:41:18.483394Z",
     "start_time": "2019-10-16T15:41:18.468393Z"
    },
    "scrolled": true
   },
   "outputs": [
    {
     "data": {
      "text/plain": [
       "['__annotations__',\n",
       " '__call__',\n",
       " '__class__',\n",
       " '__closure__',\n",
       " '__code__',\n",
       " '__defaults__',\n",
       " '__delattr__',\n",
       " '__dict__',\n",
       " '__dir__',\n",
       " '__doc__',\n",
       " '__eq__',\n",
       " '__format__',\n",
       " '__ge__',\n",
       " '__get__',\n",
       " '__getattribute__',\n",
       " '__globals__',\n",
       " '__gt__',\n",
       " '__hash__',\n",
       " '__init__',\n",
       " '__init_subclass__',\n",
       " '__kwdefaults__',\n",
       " '__le__',\n",
       " '__lt__',\n",
       " '__module__',\n",
       " '__name__',\n",
       " '__ne__',\n",
       " '__new__',\n",
       " '__qualname__',\n",
       " '__reduce__',\n",
       " '__reduce_ex__',\n",
       " '__repr__',\n",
       " '__setattr__',\n",
       " '__sizeof__',\n",
       " '__str__',\n",
       " '__subclasshook__']"
      ]
     },
     "execution_count": 30,
     "metadata": {},
     "output_type": "execute_result"
    }
   ],
   "source": [
    "# 查看函数拥有的方法：\n",
    "dir(foo)"
   ]
  },
  {
   "cell_type": "markdown",
   "metadata": {},
   "source": [
    "在这些方法中，`__call__` 是最重要的一种方法： "
   ]
  },
  {
   "cell_type": "code",
   "execution_count": 31,
   "metadata": {
    "ExecuteTime": {
     "end_time": "2019-10-16T15:41:23.957707Z",
     "start_time": "2019-10-16T15:41:23.945707Z"
    }
   },
   "outputs": [
    {
     "data": {
      "text/plain": [
       "43"
      ]
     },
     "execution_count": 31,
     "metadata": {},
     "output_type": "execute_result"
    }
   ],
   "source": [
    "foo.__call__(42)"
   ]
  },
  {
   "cell_type": "markdown",
   "metadata": {},
   "source": [
    "相当于"
   ]
  },
  {
   "cell_type": "code",
   "execution_count": 32,
   "metadata": {
    "ExecuteTime": {
     "end_time": "2019-10-16T15:41:25.805813Z",
     "start_time": "2019-10-16T15:41:25.799813Z"
    }
   },
   "outputs": [
    {
     "data": {
      "text/plain": [
       "43"
      ]
     },
     "execution_count": 32,
     "metadata": {},
     "output_type": "execute_result"
    }
   ],
   "source": [
    "foo(42)"
   ]
  },
  {
   "cell_type": "markdown",
   "metadata": {},
   "source": [
    "因为函数是对象，所以函数可以作为参数传入另一个函数："
   ]
  },
  {
   "cell_type": "code",
   "execution_count": 33,
   "metadata": {
    "ExecuteTime": {
     "end_time": "2019-10-16T15:41:28.496967Z",
     "start_time": "2019-10-16T15:41:28.482966Z"
    }
   },
   "outputs": [],
   "source": [
    "def  bar(f,x):\n",
    "    x += 1\n",
    "    return f(x)"
   ]
  },
  {
   "cell_type": "code",
   "execution_count": 34,
   "metadata": {
    "ExecuteTime": {
     "end_time": "2019-10-16T15:41:32.366188Z",
     "start_time": "2019-10-16T15:41:32.347187Z"
    }
   },
   "outputs": [
    {
     "data": {
      "text/plain": [
       "3"
      ]
     },
     "execution_count": 34,
     "metadata": {},
     "output_type": "execute_result"
    }
   ],
   "source": [
    "bar(foo,1)"
   ]
  },
  {
   "cell_type": "markdown",
   "metadata": {},
   "source": [
    "## 闭包与nonlocal"
   ]
  },
  {
   "cell_type": "markdown",
   "metadata": {},
   "source": [
    "**闭包**指延伸了作用域的函数，其中包含在函数定义体里引用、但是不在定义体中定义的**非全局变量**。也就是说，它能访问定义体之外定义的非全局变量。\n",
    "\n",
    "* 只有在涉及**嵌套函数**时才有闭包问题；\n",
    "* 这里提到的非全局变量也就是指 嵌套作用域`enclosing scope`。\n",
    "\n",
    "\n",
    "下面通过一个求平均值的例子来展示闭包。"
   ]
  },
  {
   "cell_type": "code",
   "execution_count": 29,
   "metadata": {
    "ExecuteTime": {
     "end_time": "2020-02-06T04:59:42.539099Z",
     "start_time": "2020-02-06T04:59:42.525630Z"
    }
   },
   "outputs": [],
   "source": [
    "# 计算移动平均值的高阶函数\n",
    "\n",
    "def make_averager():\n",
    "    series = []\n",
    "    \n",
    "    def averager(new_value):\n",
    "        \n",
    "        series.append(new_value)\n",
    "        total = sum(series)\n",
    "        return total/len(series)\n",
    "    return averager"
   ]
  },
  {
   "cell_type": "code",
   "execution_count": 30,
   "metadata": {
    "ExecuteTime": {
     "end_time": "2020-02-06T04:59:43.237453Z",
     "start_time": "2020-02-06T04:59:43.226259Z"
    }
   },
   "outputs": [
    {
     "data": {
      "text/plain": [
       "10.0"
      ]
     },
     "execution_count": 30,
     "metadata": {},
     "output_type": "execute_result"
    }
   ],
   "source": [
    "avg = make_averager()\n",
    "avg(10)"
   ]
  },
  {
   "cell_type": "code",
   "execution_count": 31,
   "metadata": {
    "ExecuteTime": {
     "end_time": "2020-02-06T04:59:52.603646Z",
     "start_time": "2020-02-06T04:59:52.596884Z"
    }
   },
   "outputs": [
    {
     "data": {
      "text/plain": [
       "10.5"
      ]
     },
     "execution_count": 31,
     "metadata": {},
     "output_type": "execute_result"
    }
   ],
   "source": [
    "avg(11)"
   ]
  },
  {
   "cell_type": "markdown",
   "metadata": {},
   "source": [
    "在这个例子中，嵌套的部分就是闭包，见下。\n",
    "\n",
    "```python\n",
    "series = []\n",
    "    \n",
    "    def averager(new_value):\n",
    "        \n",
    "        series.append(new_value)\n",
    "        total = sum(series)\n",
    "        return total/len(series)\n",
    "```\n",
    "\n",
    "其中`series`就是我们说的自由变量/嵌套作用域/非全局变量，属于可以在嵌套函数体中引用但是定义在函数体外的变量。"
   ]
  },
  {
   "cell_type": "code",
   "execution_count": 32,
   "metadata": {
    "ExecuteTime": {
     "end_time": "2020-02-06T05:06:23.688537Z",
     "start_time": "2020-02-06T05:06:23.681207Z"
    }
   },
   "outputs": [
    {
     "data": {
      "text/plain": [
       "('new_value', 'total')"
      ]
     },
     "execution_count": 32,
     "metadata": {},
     "output_type": "execute_result"
    }
   ],
   "source": [
    "## 审查make_averager\n",
    "avg.__code__.co_varnames"
   ]
  },
  {
   "cell_type": "code",
   "execution_count": 34,
   "metadata": {
    "ExecuteTime": {
     "end_time": "2020-02-06T05:14:38.438015Z",
     "start_time": "2020-02-06T05:14:38.416565Z"
    }
   },
   "outputs": [
    {
     "data": {
      "text/plain": [
       "('series',)"
      ]
     },
     "execution_count": 34,
     "metadata": {},
     "output_type": "execute_result"
    }
   ],
   "source": [
    "avg.__code__.co_freevars"
   ]
  },
  {
   "cell_type": "code",
   "execution_count": 35,
   "metadata": {
    "ExecuteTime": {
     "end_time": "2020-02-06T05:07:40.888046Z",
     "start_time": "2020-02-06T05:07:40.876798Z"
    }
   },
   "outputs": [
    {
     "data": {
      "text/plain": [
       "(<cell at 0x000001CF8A375D38: list object at 0x000001CF8AADFD48>,)"
      ]
     },
     "execution_count": 35,
     "metadata": {},
     "output_type": "execute_result"
    }
   ],
   "source": [
    "avg.__closure__"
   ]
  },
  {
   "cell_type": "code",
   "execution_count": 36,
   "metadata": {
    "ExecuteTime": {
     "end_time": "2020-02-06T05:08:19.064476Z",
     "start_time": "2020-02-06T05:08:19.052888Z"
    }
   },
   "outputs": [
    {
     "data": {
      "text/plain": [
       "[10, 11]"
      ]
     },
     "execution_count": 36,
     "metadata": {},
     "output_type": "execute_result"
    }
   ],
   "source": [
    "avg.__closure__[0].cell_contents"
   ]
  },
  {
   "cell_type": "markdown",
   "metadata": {
    "ExecuteTime": {
     "end_time": "2020-02-06T05:14:38.438015Z",
     "start_time": "2020-02-06T05:14:38.416565Z"
    }
   },
   "source": [
    "`series` 的绑定在返回的`avg.__closure__`属性中，里面的一个元素对应于`avg.__code__.co_freevars`一个名称。这些元素是`cell`对象，有个`cell_contents`属性，保存着真正的值，见上。"
   ]
  },
  {
   "cell_type": "markdown",
   "metadata": {},
   "source": [
    "***\n",
    "**nonloval**"
   ]
  },
  {
   "cell_type": "markdown",
   "metadata": {},
   "source": [
    "上面求平均值的例子里，并不需要存储所有的历史值，只需要存储目前的总和以及元素个数。"
   ]
  },
  {
   "cell_type": "code",
   "execution_count": 37,
   "metadata": {
    "ExecuteTime": {
     "end_time": "2020-02-06T05:14:38.438015Z",
     "start_time": "2020-02-06T05:14:38.416565Z"
    }
   },
   "outputs": [],
   "source": [
    "# 计算移动平均值的高阶函数\n",
    "\n",
    "def make_averager():\n",
    "    count = 0\n",
    "    total = 0\n",
    "    \n",
    "    def averager(new_value):\n",
    "        count += 1\n",
    "        total += new_value\n",
    "        return total/count\n",
    "    return averager"
   ]
  },
  {
   "cell_type": "code",
   "execution_count": 38,
   "metadata": {
    "ExecuteTime": {
     "end_time": "2020-02-06T05:14:38.438015Z",
     "start_time": "2020-02-06T05:14:38.416565Z"
    }
   },
   "outputs": [
    {
     "ename": "UnboundLocalError",
     "evalue": "local variable 'count' referenced before assignment",
     "output_type": "error",
     "traceback": [
      "\u001b[1;31m---------------------------------------------------------------------------\u001b[0m",
      "\u001b[1;31mUnboundLocalError\u001b[0m                         Traceback (most recent call last)",
      "\u001b[1;32m<ipython-input-38-8e16a55f9030>\u001b[0m in \u001b[0;36m<module>\u001b[1;34m\u001b[0m\n\u001b[0;32m      1\u001b[0m \u001b[0mavg1\u001b[0m \u001b[1;33m=\u001b[0m \u001b[0mmake_averager\u001b[0m\u001b[1;33m(\u001b[0m\u001b[1;33m)\u001b[0m\u001b[1;33m\u001b[0m\u001b[1;33m\u001b[0m\u001b[0m\n\u001b[1;32m----> 2\u001b[1;33m \u001b[0mavg1\u001b[0m\u001b[1;33m(\u001b[0m\u001b[1;36m10\u001b[0m\u001b[1;33m)\u001b[0m\u001b[1;33m\u001b[0m\u001b[1;33m\u001b[0m\u001b[0m\n\u001b[0m",
      "\u001b[1;32m<ipython-input-37-a83a5dc805e0>\u001b[0m in \u001b[0;36maverager\u001b[1;34m(new_value)\u001b[0m\n\u001b[0;32m      6\u001b[0m \u001b[1;33m\u001b[0m\u001b[0m\n\u001b[0;32m      7\u001b[0m     \u001b[1;32mdef\u001b[0m \u001b[0maverager\u001b[0m\u001b[1;33m(\u001b[0m\u001b[0mnew_value\u001b[0m\u001b[1;33m)\u001b[0m\u001b[1;33m:\u001b[0m\u001b[1;33m\u001b[0m\u001b[1;33m\u001b[0m\u001b[0m\n\u001b[1;32m----> 8\u001b[1;33m         \u001b[0mcount\u001b[0m \u001b[1;33m+=\u001b[0m \u001b[1;36m1\u001b[0m\u001b[1;33m\u001b[0m\u001b[1;33m\u001b[0m\u001b[0m\n\u001b[0m\u001b[0;32m      9\u001b[0m         \u001b[0mtotal\u001b[0m \u001b[1;33m+=\u001b[0m \u001b[0mnew_value\u001b[0m\u001b[1;33m\u001b[0m\u001b[1;33m\u001b[0m\u001b[0m\n\u001b[0;32m     10\u001b[0m         \u001b[1;32mreturn\u001b[0m \u001b[0mtotal\u001b[0m\u001b[1;33m/\u001b[0m\u001b[0mcount\u001b[0m\u001b[1;33m\u001b[0m\u001b[1;33m\u001b[0m\u001b[0m\n",
      "\u001b[1;31mUnboundLocalError\u001b[0m: local variable 'count' referenced before assignment"
     ]
    }
   ],
   "source": [
    "avg1 = make_averager()\n",
    "avg1(10)"
   ]
  },
  {
   "cell_type": "markdown",
   "metadata": {},
   "source": [
    "我们会发现，嵌套函数里找不到`count`变量的定义，这是因为`count`属于不可变类型，`count+=1`等价于`count=count+1`相当于在函数体内部对其赋值了，但是在函数体内并没有定义，所以报错。\n",
    "\n",
    "为了解决这个问题，python3 引入了`nonlocal` 声明：\n",
    "\n",
    "    把变量标记为自由变量，即使在函数中为变量赋予新值，也会变成自由变量。如果为`nonlocal`声明的变量赋予新值，闭包中保存的绑定也会更新。"
   ]
  },
  {
   "cell_type": "code",
   "execution_count": 39,
   "metadata": {
    "ExecuteTime": {
     "end_time": "2020-02-06T05:19:11.010315Z",
     "start_time": "2020-02-06T05:19:10.997798Z"
    }
   },
   "outputs": [],
   "source": [
    "# 计算移动平均值的高阶函数\n",
    "\n",
    "def make_averager():\n",
    "    count = 0\n",
    "    total = 0\n",
    "    \n",
    "    def averager(new_value):\n",
    "        nonlocal count,total\n",
    "        \n",
    "        count += 1\n",
    "        total += new_value\n",
    "        return total/count\n",
    "    return averager"
   ]
  },
  {
   "cell_type": "code",
   "execution_count": 40,
   "metadata": {
    "ExecuteTime": {
     "end_time": "2020-02-06T05:19:26.725084Z",
     "start_time": "2020-02-06T05:19:26.713681Z"
    }
   },
   "outputs": [
    {
     "data": {
      "text/plain": [
       "10.0"
      ]
     },
     "execution_count": 40,
     "metadata": {},
     "output_type": "execute_result"
    }
   ],
   "source": [
    "avg2 = make_averager()\n",
    "avg2(10)"
   ]
  },
  {
   "cell_type": "markdown",
   "metadata": {},
   "source": [
    "## 装饰器"
   ]
  },
  {
   "cell_type": "markdown",
   "metadata": {},
   "source": [
    "装饰器是这样的一种函数，它接受一个函数作为输入，通常输出也是一个函数："
   ]
  },
  {
   "cell_type": "code",
   "execution_count": 35,
   "metadata": {
    "ExecuteTime": {
     "end_time": "2019-10-16T15:41:35.652376Z",
     "start_time": "2019-10-16T15:41:35.645376Z"
    }
   },
   "outputs": [],
   "source": [
    "def dec(f):\n",
    "    print ('I am decorating function', id(f))\n",
    "    return f"
   ]
  },
  {
   "cell_type": "markdown",
   "metadata": {},
   "source": [
    "将 `len` 函数作为参数传入这个装饰器："
   ]
  },
  {
   "cell_type": "code",
   "execution_count": 36,
   "metadata": {
    "ExecuteTime": {
     "end_time": "2019-10-16T15:41:39.753611Z",
     "start_time": "2019-10-16T15:41:39.738610Z"
    }
   },
   "outputs": [
    {
     "name": "stdout",
     "output_type": "stream",
     "text": [
      "I am decorating function 99603728\n"
     ]
    }
   ],
   "source": [
    "declen = dec(foo)"
   ]
  },
  {
   "cell_type": "markdown",
   "metadata": {},
   "source": [
    "使用这个新生成的函数："
   ]
  },
  {
   "cell_type": "code",
   "execution_count": 37,
   "metadata": {
    "ExecuteTime": {
     "end_time": "2019-10-16T15:41:50.709237Z",
     "start_time": "2019-10-16T15:41:50.697237Z"
    }
   },
   "outputs": [
    {
     "data": {
      "text/plain": [
       "11"
      ]
     },
     "execution_count": 37,
     "metadata": {},
     "output_type": "execute_result"
    }
   ],
   "source": [
    "declen(10)"
   ]
  },
  {
   "cell_type": "markdown",
   "metadata": {},
   "source": [
    "上面的例子中，我们仅仅返回了**函数的本身**，也可以利用这个函数**生成一个新的函数**，看一个新的例子："
   ]
  },
  {
   "cell_type": "code",
   "execution_count": 14,
   "metadata": {
    "ExecuteTime": {
     "end_time": "2019-10-16T15:32:38.737141Z",
     "start_time": "2019-10-16T15:32:38.723140Z"
    }
   },
   "outputs": [],
   "source": [
    "def loud(f):\n",
    "    def new_f(*arg1,**kw):\n",
    "        print('calling with',arg1,kw)\n",
    "        s = f(*arg1,**kw)\n",
    "        print('return value is',s)\n",
    "    return new_f"
   ]
  },
  {
   "cell_type": "code",
   "execution_count": 38,
   "metadata": {
    "ExecuteTime": {
     "end_time": "2019-10-16T15:42:33.904708Z",
     "start_time": "2019-10-16T15:42:33.895708Z"
    }
   },
   "outputs": [],
   "source": [
    "l = loud(foo)"
   ]
  },
  {
   "cell_type": "code",
   "execution_count": 41,
   "metadata": {
    "ExecuteTime": {
     "end_time": "2019-10-16T15:43:03.326391Z",
     "start_time": "2019-10-16T15:43:03.310390Z"
    }
   },
   "outputs": [
    {
     "name": "stdout",
     "output_type": "stream",
     "text": [
      "calling with (12,) {}\n",
      "return value is 13\n"
     ]
    }
   ],
   "source": [
    "l(12)"
   ]
  },
  {
   "cell_type": "markdown",
   "metadata": {},
   "source": [
    "**用 @ 来使用装饰器**"
   ]
  },
  {
   "cell_type": "markdown",
   "metadata": {},
   "source": [
    "```python\n",
    "@dec\n",
    "def foo(x):\n",
    "    return x+1\n",
    "```\n",
    "`@`的含义是将`dec(foo)`这个复合函数简记为`foo`，但该函数的实际对应已经是`dec(f)`这个函数`return`的结果。"
   ]
  },
  {
   "cell_type": "code",
   "execution_count": 73,
   "metadata": {
    "ExecuteTime": {
     "end_time": "2019-10-16T16:09:19.914140Z",
     "start_time": "2019-10-16T16:09:19.897139Z"
    }
   },
   "outputs": [
    {
     "name": "stdout",
     "output_type": "stream",
     "text": [
      "I am decorating function 101874408\n"
     ]
    }
   ],
   "source": [
    "def foo(x):\n",
    "    return x+1\n",
    "    \n",
    "def dec(f):\n",
    "    print ('I am decorating function', id(f))\n",
    "    def new_f1(x):\n",
    "        print('it is a test')\n",
    "        return f(x)\n",
    "    return new_f1\n",
    "    \n",
    "foo = dec(foo)"
   ]
  },
  {
   "cell_type": "code",
   "execution_count": 74,
   "metadata": {
    "ExecuteTime": {
     "end_time": "2019-10-16T16:09:30.386739Z",
     "start_time": "2019-10-16T16:09:30.374739Z"
    }
   },
   "outputs": [
    {
     "name": "stdout",
     "output_type": "stream",
     "text": [
      "it is a test\n"
     ]
    },
    {
     "data": {
      "text/plain": [
       "5"
      ]
     },
     "execution_count": 74,
     "metadata": {},
     "output_type": "execute_result"
    }
   ],
   "source": [
    "foo(4)"
   ]
  },
  {
   "cell_type": "markdown",
   "metadata": {},
   "source": [
    "可以修改为"
   ]
  },
  {
   "cell_type": "code",
   "execution_count": 75,
   "metadata": {
    "ExecuteTime": {
     "end_time": "2019-10-16T16:09:36.288077Z",
     "start_time": "2019-10-16T16:09:36.270076Z"
    }
   },
   "outputs": [
    {
     "name": "stdout",
     "output_type": "stream",
     "text": [
      "I am decorating function 99093224\n"
     ]
    }
   ],
   "source": [
    "@dec\n",
    "def foo(x):\n",
    "    return x+1"
   ]
  },
  {
   "cell_type": "code",
   "execution_count": 76,
   "metadata": {
    "ExecuteTime": {
     "end_time": "2019-10-16T16:09:37.563150Z",
     "start_time": "2019-10-16T16:09:37.541148Z"
    }
   },
   "outputs": [
    {
     "name": "stdout",
     "output_type": "stream",
     "text": [
      "it is a test\n"
     ]
    },
    {
     "data": {
      "text/plain": [
       "5"
      ]
     },
     "execution_count": 76,
     "metadata": {},
     "output_type": "execute_result"
    }
   ],
   "source": [
    "foo(4)"
   ]
  },
  {
   "cell_type": "code",
   "execution_count": 77,
   "metadata": {
    "ExecuteTime": {
     "end_time": "2019-10-16T16:09:41.317364Z",
     "start_time": "2019-10-16T16:09:41.303364Z"
    }
   },
   "outputs": [
    {
     "data": {
      "text/plain": [
       "'new_f1'"
      ]
     },
     "execution_count": 77,
     "metadata": {},
     "output_type": "execute_result"
    }
   ],
   "source": [
    "foo.__name__"
   ]
  },
  {
   "cell_type": "markdown",
   "metadata": {},
   "source": [
    "解释：\n",
    "\n",
    "```python\n",
    "@dec\n",
    "def foo(x):\n",
    "    return x+1\n",
    "```\n",
    "\n",
    "执行的过程等价于：\n",
    "\n",
    "`dec(foo) = new_f1`\n",
    "\n",
    "并且立即执行，出来了` print ('I am decorating function', id(f))`。\n",
    "\n",
    "使用装饰器 `@dec`的意思是简记`foo=dec(foo)`\n",
    "\n",
    "所以执行完上面的代码后，`foo`实际对应的函数为 `new_f1`，通过`foo.__name__`为`new_f1`也能看出来。"
   ]
  },
  {
   "cell_type": "markdown",
   "metadata": {},
   "source": [
    "## 例子"
   ]
  },
  {
   "cell_type": "markdown",
   "metadata": {},
   "source": [
    "### 例子1"
   ]
  },
  {
   "cell_type": "markdown",
   "metadata": {},
   "source": [
    "定义两个装饰器，一个将原来的函数值加一，另一个乘二："
   ]
  },
  {
   "cell_type": "code",
   "execution_count": 82,
   "metadata": {
    "ExecuteTime": {
     "end_time": "2019-10-16T16:12:25.362360Z",
     "start_time": "2019-10-16T16:12:25.347359Z"
    }
   },
   "outputs": [],
   "source": [
    "def plus_one(f):\n",
    "    def f1(x):\n",
    "        return f(x) + 1\n",
    "    return f1\n",
    "\n",
    "def times_two(f):\n",
    "    def f2(x):\n",
    "        return f(x) * 2\n",
    "    return f2"
   ]
  },
  {
   "cell_type": "code",
   "execution_count": 83,
   "metadata": {
    "ExecuteTime": {
     "end_time": "2019-10-16T16:12:25.792385Z",
     "start_time": "2019-10-16T16:12:25.787384Z"
    }
   },
   "outputs": [],
   "source": [
    "@plus_one\n",
    "@times_two\n",
    "def goo(x):\n",
    "    return int(x)"
   ]
  },
  {
   "cell_type": "code",
   "execution_count": 84,
   "metadata": {
    "ExecuteTime": {
     "end_time": "2019-10-16T16:12:26.338416Z",
     "start_time": "2019-10-16T16:12:26.328415Z"
    }
   },
   "outputs": [
    {
     "data": {
      "text/plain": [
       "5"
      ]
     },
     "execution_count": 84,
     "metadata": {},
     "output_type": "execute_result"
    }
   ],
   "source": [
    "goo('2')"
   ]
  },
  {
   "cell_type": "markdown",
   "metadata": {},
   "source": [
    "记$f_1 = f+ 1;f_2=f*2$，以上执行过程对应的数学表达为：\n",
    "\n",
    "$$plus\\_one(time\\_two(goo)) \\\\\n",
    "= plus\\_one(f_2) \\\\\n",
    "= f_1(f_2) \\\\\n",
    "= f_1(f*2) \\\\\n",
    "= f*2+1$$"
   ]
  },
  {
   "cell_type": "markdown",
   "metadata": {},
   "source": [
    "本质上是一个复合函数。"
   ]
  },
  {
   "cell_type": "markdown",
   "metadata": {},
   "source": [
    "### 自动添加函数"
   ]
  },
  {
   "cell_type": "code",
   "execution_count": 3,
   "metadata": {
    "ExecuteTime": {
     "end_time": "2020-02-06T03:32:58.276246Z",
     "start_time": "2020-02-06T03:32:58.262249Z"
    }
   },
   "outputs": [],
   "source": [
    "promos =  []\n",
    "\n",
    "def promotion(promo_func):\n",
    "    promos.append(promo_func)\n",
    "    return promo_func\n",
    "\n",
    "@promotion\n",
    "def add(x,y):\n",
    "    return x+y\n",
    "\n",
    "@promotion\n",
    "def diff(x,y):\n",
    "    return x-y\n",
    "\n",
    "@promotion\n",
    "def pro(x,y):\n",
    "    return x*y"
   ]
  },
  {
   "cell_type": "code",
   "execution_count": 4,
   "metadata": {
    "ExecuteTime": {
     "end_time": "2020-02-06T03:33:03.711550Z",
     "start_time": "2020-02-06T03:33:03.689857Z"
    }
   },
   "outputs": [
    {
     "data": {
      "text/plain": [
       "[<function __main__.add(x, y)>,\n",
       " <function __main__.diff(x, y)>,\n",
       " <function __main__.pro(x, y)>]"
      ]
     },
     "execution_count": 4,
     "metadata": {},
     "output_type": "execute_result"
    }
   ],
   "source": [
    "promos"
   ]
  },
  {
   "cell_type": "markdown",
   "metadata": {},
   "source": [
    "装饰器作为方案的优点：\n",
    "\n",
    "1. 被添加的函数不需要起特殊的名称来专门定义函数来搜寻符合的函数；\n",
    "2. `@promotion`突出了被装饰的函数的作用，还便于临时禁用某个函数，只需要把装饰器注释掉；\n",
    "3. 函数可以在其他模块中定义，系统中任何地方都可以，只要使用了`@promotion`即可。"
   ]
  },
  {
   "cell_type": "markdown",
   "metadata": {},
   "source": [
    "### 注册一个函数"
   ]
  },
  {
   "cell_type": "markdown",
   "metadata": {},
   "source": [
    "来看这样的一个例子，定义一个类："
   ]
  },
  {
   "cell_type": "code",
   "execution_count": 125,
   "metadata": {
    "ExecuteTime": {
     "end_time": "2019-10-16T16:42:57.099240Z",
     "start_time": "2019-10-16T16:42:57.083239Z"
    }
   },
   "outputs": [],
   "source": [
    "class Registry(object):\n",
    "    def __init__(self):\n",
    "        self._data = {}\n",
    "    def register(self, f, name=None):\n",
    "        if name == None:\n",
    "            name = f.__name__\n",
    "        self._data[name] = f"
   ]
  },
  {
   "cell_type": "markdown",
   "metadata": {},
   "source": [
    "`register` 方法接受一个函数，将这个函数名作为属性注册到对象中。\n",
    "\n",
    "产生该类的一个对象："
   ]
  },
  {
   "cell_type": "code",
   "execution_count": 121,
   "metadata": {
    "ExecuteTime": {
     "end_time": "2019-10-16T16:42:40.602297Z",
     "start_time": "2019-10-16T16:42:40.596296Z"
    }
   },
   "outputs": [],
   "source": [
    "registry = Registry()"
   ]
  },
  {
   "cell_type": "markdown",
   "metadata": {},
   "source": [
    "使用该对象的 `register` 方法作为修饰符："
   ]
  },
  {
   "cell_type": "code",
   "execution_count": 122,
   "metadata": {
    "ExecuteTime": {
     "end_time": "2019-10-16T16:42:41.664357Z",
     "start_time": "2019-10-16T16:42:41.652357Z"
    }
   },
   "outputs": [],
   "source": [
    "@registry.register\n",
    "def greeting():\n",
    "    print (\"hello world\")"
   ]
  },
  {
   "cell_type": "markdown",
   "metadata": {},
   "source": [
    "这样这个函数就被注册到 `registry` 这个对象中去了："
   ]
  },
  {
   "cell_type": "code",
   "execution_count": 123,
   "metadata": {
    "ExecuteTime": {
     "end_time": "2019-10-16T16:42:43.053437Z",
     "start_time": "2019-10-16T16:42:43.038436Z"
    }
   },
   "outputs": [
    {
     "data": {
      "text/plain": [
       "{'greeting': <function __main__.greeting>}"
      ]
     },
     "execution_count": 123,
     "metadata": {},
     "output_type": "execute_result"
    }
   ],
   "source": [
    "registry._data"
   ]
  },
  {
   "cell_type": "markdown",
   "metadata": {},
   "source": [
    "## 标准库中的装饰器"
   ]
  },
  {
   "cell_type": "markdown",
   "metadata": {},
   "source": [
    "### functools.wraps"
   ]
  },
  {
   "cell_type": "code",
   "execution_count": 126,
   "metadata": {
    "ExecuteTime": {
     "end_time": "2019-10-16T16:46:56.201916Z",
     "start_time": "2019-10-16T16:46:56.184915Z"
    }
   },
   "outputs": [
    {
     "name": "stdout",
     "output_type": "stream",
     "text": [
      "None wrapper\n"
     ]
    }
   ],
   "source": [
    "def logging_call(f):\n",
    "    def wrapper(*a, **kw):\n",
    "        print ('calling {}'.format(f.__name__))\n",
    "        return f(*a, **kw)\n",
    "    return wrapper\n",
    "\n",
    "@logging_call\n",
    "def square(x):\n",
    "    '''\n",
    "    square function.\n",
    "    '''\n",
    "    return x ** 2\n",
    "\n",
    "print (square.__doc__, square.__name__)"
   ]
  },
  {
   "cell_type": "markdown",
   "metadata": {},
   "source": [
    "我们使用修饰符之后，`square` 的 `metadata` 完全丢失了，返回的函数名与函数的 `docstring` 都不对。\n",
    "\n",
    "一个解决的方法是从 `functools` 模块导入 `wraps` 修饰符来修饰我们的修饰符："
   ]
  },
  {
   "cell_type": "code",
   "execution_count": 127,
   "metadata": {
    "ExecuteTime": {
     "end_time": "2019-10-16T16:47:30.250864Z",
     "start_time": "2019-10-16T16:47:30.227862Z"
    }
   },
   "outputs": [
    {
     "name": "stdout",
     "output_type": "stream",
     "text": [
      "\n",
      "    square function.\n",
      "     square\n"
     ]
    }
   ],
   "source": [
    "import functools\n",
    "\n",
    "def logging_call(f):\n",
    "    @functools.wraps(f)\n",
    "    def wrapper(*a, **kw):\n",
    "        print ('calling {}'.format(f.__name__))\n",
    "        return f(*a, **kw)\n",
    "    return wrapper\n",
    "\n",
    "@logging_call\n",
    "def square(x):\n",
    "    '''\n",
    "    square function.\n",
    "    '''\n",
    "    return x ** 2\n",
    "\n",
    "print (square.__doc__, square.__name__)"
   ]
  },
  {
   "cell_type": "markdown",
   "metadata": {},
   "source": [
    "### functools.lru_cache"
   ]
  },
  {
   "cell_type": "markdown",
   "metadata": {},
   "source": [
    "`functools.lru_cache`是非常实用的装饰器，实现了备忘功能，是一项优化技术，把耗时的函数结果保存起来，避免传入相同参数时重复计算。LRU是`Least Recently Used`的缩写，表明缓存不会无限制增长，一段时间不用的缓存条目会被扔掉。\n",
    "\n",
    "```python \n",
    "functools.lru_cache(maxsize=128,typed=False):\n",
    "```\n",
    "1. `maxsize`参数存储多少个调用的结果，缓存满了之后，旧结果会被扔掉，腾出空间，为了得到最佳性能，应该设为2的幂；\n",
    "\n",
    "2. `type`参数如果设定为True,把不同参数类型得到的结果分开保存。\n",
    "\n",
    "3. `lru_cache`使用字典存储结果，而且键根据调用时传入的定位参数和关键字参数创建，所以被`lru_cache`装饰的函数，它的所有参数都必须是**可散列的**。"
   ]
  },
  {
   "cell_type": "markdown",
   "metadata": {},
   "source": [
    "生成第n个斐波那契数这种慢速递归函数适合用`lru_cache`，如下示例："
   ]
  },
  {
   "cell_type": "code",
   "execution_count": 11,
   "metadata": {
    "ExecuteTime": {
     "end_time": "2020-03-01T15:27:02.986916Z",
     "start_time": "2020-03-01T15:27:02.935913Z"
    }
   },
   "outputs": [],
   "source": [
    "# 计时器\n",
    "import time\n",
    "import functools\n",
    "\n",
    "def clock(func):\n",
    "    @functools.wraps(func)\n",
    "    def clocked(*args,**kwargs):\n",
    "        t0=time.time()\n",
    "        result=func(*args,**kwargs)\n",
    "        elapsed = time.time()-t0\n",
    "        name=func.__name__\n",
    "        arg_lst = []\n",
    "        if args:\n",
    "            arg_lst.append(', '.join(repr(arg) for arg in args))\n",
    "        \n",
    "        if kwargs:\n",
    "            pairs = ['%s=%r'%(k,w) for k,w in sorted(kwargs.items())]\n",
    "            arg_lst.append(', '.join(pairs))\n",
    "        \n",
    "        arg_str = ', '.join(arg_lst)\n",
    "        print('[%0.10fs] %s(%s) -> %r'%(elapsed,name,arg_str,result))\n",
    "        return result\n",
    "    return clocked    "
   ]
  },
  {
   "cell_type": "markdown",
   "metadata": {
    "ExecuteTime": {
     "end_time": "2020-03-01T15:23:03.965245Z",
     "start_time": "2020-03-01T15:23:03.960245Z"
    }
   },
   "source": [
    "生成第n个斐波那契数，递归方式非常耗时"
   ]
  },
  {
   "cell_type": "code",
   "execution_count": 12,
   "metadata": {
    "ExecuteTime": {
     "end_time": "2020-03-01T15:27:04.971030Z",
     "start_time": "2020-03-01T15:27:04.964029Z"
    }
   },
   "outputs": [],
   "source": [
    "@clock\n",
    "def fibonacci(n):\n",
    "    if n<2:\n",
    "        return n\n",
    "    else:\n",
    "        return fibonacci(n-2) + fibonacci(n-1)"
   ]
  },
  {
   "cell_type": "code",
   "execution_count": 13,
   "metadata": {
    "ExecuteTime": {
     "end_time": "2020-03-01T15:27:05.846080Z",
     "start_time": "2020-03-01T15:27:05.840079Z"
    }
   },
   "outputs": [
    {
     "name": "stdout",
     "output_type": "stream",
     "text": [
      "[0.0000000000s] fibonacci(0) -> 0\n",
      "[0.0000000000s] fibonacci(1) -> 1\n",
      "[0.0000000000s] fibonacci(2) -> 1\n",
      "[0.0000000000s] fibonacci(1) -> 1\n",
      "[0.0000000000s] fibonacci(0) -> 0\n",
      "[0.0000000000s] fibonacci(1) -> 1\n",
      "[0.0000000000s] fibonacci(2) -> 1\n",
      "[0.0000000000s] fibonacci(3) -> 2\n",
      "[0.0000000000s] fibonacci(4) -> 3\n",
      "[0.0000000000s] fibonacci(1) -> 1\n",
      "[0.0000000000s] fibonacci(0) -> 0\n",
      "[0.0000000000s] fibonacci(1) -> 1\n",
      "[0.0000000000s] fibonacci(2) -> 1\n",
      "[0.0000000000s] fibonacci(3) -> 2\n",
      "[0.0000000000s] fibonacci(0) -> 0\n",
      "[0.0000000000s] fibonacci(1) -> 1\n",
      "[0.0000000000s] fibonacci(2) -> 1\n",
      "[0.0000000000s] fibonacci(1) -> 1\n",
      "[0.0000000000s] fibonacci(0) -> 0\n",
      "[0.0000000000s] fibonacci(1) -> 1\n",
      "[0.0010004044s] fibonacci(2) -> 1\n",
      "[0.0010004044s] fibonacci(3) -> 2\n",
      "[0.0010004044s] fibonacci(4) -> 3\n",
      "[0.0010004044s] fibonacci(5) -> 5\n",
      "[0.0010004044s] fibonacci(6) -> 8\n",
      "8\n"
     ]
    }
   ],
   "source": [
    "print(fibonacci(6))"
   ]
  },
  {
   "cell_type": "markdown",
   "metadata": {},
   "source": [
    "浪费时间的地方在于：`fibonacci(1)`被调用了8次，...但是，如果增加两行代码，使用`lru_cache`性能会显著改善："
   ]
  },
  {
   "cell_type": "code",
   "execution_count": 14,
   "metadata": {
    "ExecuteTime": {
     "end_time": "2020-03-01T15:27:14.097552Z",
     "start_time": "2020-03-01T15:27:14.089551Z"
    }
   },
   "outputs": [],
   "source": [
    "@functools.lru_cache()\n",
    "@clock\n",
    "def fibonacci(n):\n",
    "    if n<2:\n",
    "        return n\n",
    "    else:\n",
    "        return fibonacci(n-2) + fibonacci(n-1)"
   ]
  },
  {
   "cell_type": "code",
   "execution_count": 15,
   "metadata": {
    "ExecuteTime": {
     "end_time": "2020-03-01T15:27:14.893597Z",
     "start_time": "2020-03-01T15:27:14.888597Z"
    }
   },
   "outputs": [
    {
     "name": "stdout",
     "output_type": "stream",
     "text": [
      "[0.0000000000s] fibonacci(0) -> 0\n",
      "[0.0000000000s] fibonacci(1) -> 1\n",
      "[0.0000000000s] fibonacci(2) -> 1\n",
      "[0.0000000000s] fibonacci(3) -> 2\n",
      "[0.0000000000s] fibonacci(4) -> 3\n",
      "[0.0000000000s] fibonacci(5) -> 5\n",
      "[0.0000000000s] fibonacci(6) -> 8\n",
      "8\n"
     ]
    }
   ],
   "source": [
    "print(fibonacci(6))"
   ]
  },
  {
   "cell_type": "markdown",
   "metadata": {},
   "source": [
    "这里叠放了装饰器：`lru_cache()`应用到`@clock`返回的函数上。"
   ]
  },
  {
   "cell_type": "markdown",
   "metadata": {},
   "source": [
    "### functools.singledispatch"
   ]
  },
  {
   "cell_type": "code",
   "execution_count": 16,
   "metadata": {
    "ExecuteTime": {
     "end_time": "2020-03-01T15:55:12.515552Z",
     "start_time": "2020-03-01T15:55:12.509551Z"
    }
   },
   "outputs": [],
   "source": [
    "# 我们有下面这样一个生成HTML的函数\n",
    "\n",
    "import html\n",
    "\n",
    "def htmlize(obj):\n",
    "    content = html.escape(repr(obj))\n",
    "    return '<pre>{}</pre>'.format(content)"
   ]
  },
  {
   "cell_type": "markdown",
   "metadata": {},
   "source": [
    "这个函数适用于任何数据类型，但是现在我们想做一个扩展，让它用特别的方式显示某些类型：\n",
    "\n",
    "1. `str`: 把内部的换行符替换为`<br>\\n`;不使用`<pre>`而是`<p>`;\n",
    "\n",
    "2. `int`:以十进制和十六进制显示数字；\n",
    "\n",
    "3. `list`:输出一个html列表，根据各个元素的类型进行格式化"
   ]
  },
  {
   "cell_type": "markdown",
   "metadata": {},
   "source": [
    "如果要实现以上三种变形，一种常见的做法是把`htmlize`函数变成一个分派函数，使用一串`if/elif/elif`，调用专门的函数，如`htmlize_str、htmlize_int`等。\n",
    "\n",
    "这样实现的缺点是不便于用户扩展，显得笨拙；时间一长，分派函数会变得很大，而且它与各个专门函数之间的耦合性也很紧密。\n",
    "\n",
    "`python3.4`新增的`functools.singledispatch`装饰器可以把整个方案拆分成多个模块，甚至可以为你无法修改的类提供专门的函数。使用`@singledispatch`装饰的普通函数会变成泛函数：根据第一个参数的类型，以不同方式执行相同操作的一组函数。"
   ]
  },
  {
   "cell_type": "markdown",
   "metadata": {},
   "source": [
    "使用`singledispatch`创建一个自定义的`htmlize.register`装饰器，把多个函数绑在一起组成一个泛函数："
   ]
  },
  {
   "cell_type": "code",
   "execution_count": 27,
   "metadata": {
    "ExecuteTime": {
     "end_time": "2020-03-01T16:14:37.090161Z",
     "start_time": "2020-03-01T16:14:37.041159Z"
    }
   },
   "outputs": [],
   "source": [
    "from functools import singledispatch\n",
    "from collections import abc\n",
    "import numbers\n",
    "import html\n",
    "\n",
    "@singledispatch\n",
    "def htmlize(obj):\n",
    "    content = html.escape(repr(obj))\n",
    "    return '<pre>{}</pre>'.format(content)\n",
    "\n",
    "@htmlize.register(str)\n",
    "def _(text):\n",
    "    content = html.escape(text).replace('\\n','<br>\\n')\n",
    "    return '<p>{}</p>'.format(content)\n",
    "\n",
    "@htmlize.register(numbers.Integral)\n",
    "def _(n):\n",
    "    return '<pre>{0} (0x{0:x})</pre>'.format(n)\n",
    "\n",
    "\n",
    "@htmlize.register(tuple)\n",
    "@htmlize.register(abc.MutableSequence)\n",
    "def _(seq):\n",
    "    inner = '</li>\\n<li>'.join(htmlize(item) for item in seq)\n",
    "    return '<ur>\\n<li>' + inner + '</li>\\n</ur>'"
   ]
  },
  {
   "cell_type": "code",
   "execution_count": 28,
   "metadata": {
    "ExecuteTime": {
     "end_time": "2020-03-01T16:14:39.688310Z",
     "start_time": "2020-03-01T16:14:39.683310Z"
    }
   },
   "outputs": [
    {
     "data": {
      "text/plain": [
       "'<p>it is a <br>\\n test</p>'"
      ]
     },
     "execution_count": 28,
     "metadata": {},
     "output_type": "execute_result"
    }
   ],
   "source": [
    "htmlize('it is a \\n test')"
   ]
  },
  {
   "cell_type": "code",
   "execution_count": 29,
   "metadata": {
    "ExecuteTime": {
     "end_time": "2020-03-01T16:14:40.052331Z",
     "start_time": "2020-03-01T16:14:40.044330Z"
    }
   },
   "outputs": [
    {
     "data": {
      "text/plain": [
       "'<pre>10 (0xa)</pre>'"
      ]
     },
     "execution_count": 29,
     "metadata": {},
     "output_type": "execute_result"
    }
   ],
   "source": [
    "htmlize(10)"
   ]
  },
  {
   "cell_type": "code",
   "execution_count": 30,
   "metadata": {
    "ExecuteTime": {
     "end_time": "2020-03-01T16:14:40.753371Z",
     "start_time": "2020-03-01T16:14:40.747371Z"
    }
   },
   "outputs": [
    {
     "data": {
      "text/plain": [
       "'<ur>\\n<li><pre>10 (0xa)</pre></li>\\n<li><p>it is a <br>\\n test</p></li>\\n</ur>'"
      ]
     },
     "execution_count": 30,
     "metadata": {},
     "output_type": "execute_result"
    }
   ],
   "source": [
    "htmlize([10,'it is a \\n test'])"
   ]
  },
  {
   "cell_type": "markdown",
   "metadata": {},
   "source": [
    "只要可能，注册的专门函数应该处理抽象基类(如`abc.MutableSequence`以及`numbers.Integral`),不要处理具体实现(如`list`以及`int`)，这样代码支持的兼容类型更广泛。\n",
    "\n",
    "`@singledispatch`的优点是支持模块化扩展，各个模块可以为它想要支持的各个类型注册一个专门函数。"
   ]
  },
  {
   "cell_type": "code",
   "execution_count": null,
   "metadata": {},
   "outputs": [],
   "source": []
  },
  {
   "cell_type": "markdown",
   "metadata": {},
   "source": [
    "### classmethod 修饰符"
   ]
  },
  {
   "cell_type": "markdown",
   "metadata": {},
   "source": [
    "在 `Python` 标准库中，有很多自带的修饰符，例如 `classmethod` 将一个对象方法转换了类方法： "
   ]
  },
  {
   "cell_type": "code",
   "execution_count": 105,
   "metadata": {
    "ExecuteTime": {
     "end_time": "2019-10-16T16:28:30.667955Z",
     "start_time": "2019-10-16T16:28:30.653955Z"
    }
   },
   "outputs": [],
   "source": [
    "class Foo(object):\n",
    "    @classmethod\n",
    "    def bar(ss,x,y):\n",
    "        print( 'the input is {} and {}'.format(x,y))\n",
    "        \n",
    "    def __init__(self):\n",
    "        pass"
   ]
  },
  {
   "cell_type": "markdown",
   "metadata": {},
   "source": [
    "类方法可以通过 `类名.方法` 来调用："
   ]
  },
  {
   "cell_type": "code",
   "execution_count": 106,
   "metadata": {
    "ExecuteTime": {
     "end_time": "2019-10-16T16:28:31.714015Z",
     "start_time": "2019-10-16T16:28:31.706015Z"
    }
   },
   "outputs": [
    {
     "name": "stdout",
     "output_type": "stream",
     "text": [
      "the input is 12 and 13\n"
     ]
    }
   ],
   "source": [
    "Foo.bar(12,13)"
   ]
  },
  {
   "cell_type": "markdown",
   "metadata": {},
   "source": [
    "将函数方法中的`ss`代替为`self`"
   ]
  },
  {
   "cell_type": "markdown",
   "metadata": {},
   "source": [
    "### Numpy 的 @vectorize 修饰符"
   ]
  },
  {
   "cell_type": "markdown",
   "metadata": {},
   "source": [
    "`numpy` 的 `vectorize` 函数将一个函数转换为 `ufunc`，事实上它也是一个修饰符。\n",
    "\n",
    "ufunc函数: ufunc是universal function的缩写，它是一种能对数组的每个元素进行操作的函数。NumPy内置的许多ufunc函数都是在C语言级别实现的，因此它们的计算速度非常快。"
   ]
  },
  {
   "cell_type": "code",
   "execution_count": 107,
   "metadata": {
    "ExecuteTime": {
     "end_time": "2019-10-16T16:34:24.372096Z",
     "start_time": "2019-10-16T16:34:24.346095Z"
    }
   },
   "outputs": [
    {
     "data": {
      "text/plain": [
       "array([-10.,  -9.,  -8.,  -7.,  -6.,  -5.,  -4.,  -3.,  -2.,  -1.,   0.,\n",
       "         0.,   0.,   0.,   0.,   0.,   0.,   0.,   0.,   0.])"
      ]
     },
     "execution_count": 107,
     "metadata": {},
     "output_type": "execute_result"
    }
   ],
   "source": [
    "from numpy import vectorize, arange\n",
    "\n",
    "@vectorize\n",
    "def f(x):\n",
    "    if x <= 0:\n",
    "        return x\n",
    "    else:\n",
    "        return 0\n",
    "\n",
    "f(arange(-10.0,10.0))"
   ]
  },
  {
   "cell_type": "markdown",
   "metadata": {},
   "source": [
    "等价于"
   ]
  },
  {
   "cell_type": "code",
   "execution_count": 112,
   "metadata": {
    "ExecuteTime": {
     "end_time": "2019-10-16T16:37:48.375765Z",
     "start_time": "2019-10-16T16:37:48.365764Z"
    }
   },
   "outputs": [],
   "source": [
    "def f(x):\n",
    "    if x <= 0:\n",
    "        return x\n",
    "    else:\n",
    "        return 0\n",
    "v1 = vectorize(f)"
   ]
  },
  {
   "cell_type": "markdown",
   "metadata": {},
   "source": [
    "## 参数化装饰器"
   ]
  },
  {
   "cell_type": "markdown",
   "metadata": {},
   "source": [
    "如何让装饰器接受除了被装饰的函数以外的其他参数呢？答案是，装饰器工厂函数：\n",
    "    \n",
    "        把参数传给它，返回一个装饰器，然后把它应用到要装饰的函数上。"
   ]
  },
  {
   "cell_type": "markdown",
   "metadata": {},
   "source": [
    "### 一个参数化的装饰器"
   ]
  },
  {
   "cell_type": "code",
   "execution_count": 5,
   "metadata": {
    "ExecuteTime": {
     "end_time": "2020-03-02T16:19:40.146983Z",
     "start_time": "2020-03-02T16:19:40.134982Z"
    }
   },
   "outputs": [
    {
     "name": "stdout",
     "output_type": "stream",
     "text": [
      "running register(<function f1 at 0x00000000061E56A8>)\n"
     ]
    }
   ],
   "source": [
    "registry = []\n",
    "\n",
    "def regsiter(func):\n",
    "    print('running register(%s)'% func)\n",
    "    registry.append(func)\n",
    "    return func\n",
    "\n",
    "@regsiter\n",
    "def f1():\n",
    "    print('running f1()')\n"
   ]
  },
  {
   "cell_type": "markdown",
   "metadata": {},
   "source": [
    "为了便于启用或者禁用register执行的函数注册功能，可以想办法为它提供一个可选的active参数，设为false时，不注册被装饰的函数。\n",
    "\n",
    "从概念上看，这个新的register函数不是装饰器，而是装饰器工厂函数。调用它会返回真正的装饰器，这才是应用到目标函数上的装饰器。"
   ]
  },
  {
   "cell_type": "code",
   "execution_count": 9,
   "metadata": {
    "ExecuteTime": {
     "end_time": "2020-03-02T16:30:34.269905Z",
     "start_time": "2020-03-02T16:30:34.229902Z"
    }
   },
   "outputs": [
    {
     "name": "stdout",
     "output_type": "stream",
     "text": [
      "running register(active=False)->decorate(<function f1 at 0x00000000065CB268>)\n",
      "running register(active=True)->decorate(<function f2 at 0x00000000065CB510>)\n"
     ]
    }
   ],
   "source": [
    "registry=set()\n",
    "\n",
    "def register(active=True):\n",
    "    def decorate(func):\n",
    "        print('running register(active=%s)->decorate(%s)'%(active,func))\n",
    "        if active:\n",
    "            registry.add(func)\n",
    "        else:\n",
    "            registry.discard(func)\n",
    "            \n",
    "        return func\n",
    "    return decorate\n",
    "\n",
    "@register(active=False)\n",
    "def f1():\n",
    "    print('running f1()')\n",
    "\n",
    "@register()\n",
    "def f2():\n",
    "    print('running f2()')\n",
    "    \n",
    "def f3():\n",
    "    print('running f3()')"
   ]
  },
  {
   "cell_type": "code",
   "execution_count": 10,
   "metadata": {
    "ExecuteTime": {
     "end_time": "2020-03-02T16:30:37.506502Z",
     "start_time": "2020-03-02T16:30:37.486502Z"
    }
   },
   "outputs": [
    {
     "data": {
      "text/plain": [
       "{<function __main__.f2>}"
      ]
     },
     "execution_count": 10,
     "metadata": {},
     "output_type": "execute_result"
    }
   ],
   "source": [
    "registry"
   ]
  },
  {
   "cell_type": "markdown",
   "metadata": {},
   "source": [
    "注意：\n",
    "\n",
    "1. decorate才是真正的装饰器；\n",
    "2. regsiter是一个装饰器工厂函数，返回decorate;\n",
    "3. 即使不传入参数，register也必须作为函数调用(`@register()`),即要返回真正的装饰器decorate;"
   ]
  },
  {
   "cell_type": "markdown",
   "metadata": {},
   "source": [
    "如果不使用`@`,就要像常规函数那样使用register，如果想把f3添加到registry中，句法如下："
   ]
  },
  {
   "cell_type": "code",
   "execution_count": 11,
   "metadata": {
    "ExecuteTime": {
     "end_time": "2020-03-02T16:31:43.839108Z",
     "start_time": "2020-03-02T16:31:43.832108Z"
    }
   },
   "outputs": [
    {
     "name": "stdout",
     "output_type": "stream",
     "text": [
      "running register(active=True)->decorate(<function f3 at 0x00000000065CB2F0>)\n"
     ]
    },
    {
     "data": {
      "text/plain": [
       "<function __main__.f3>"
      ]
     },
     "execution_count": 11,
     "metadata": {},
     "output_type": "execute_result"
    }
   ],
   "source": [
    "register()(f3)"
   ]
  },
  {
   "cell_type": "code",
   "execution_count": 12,
   "metadata": {
    "ExecuteTime": {
     "end_time": "2020-03-02T16:32:07.880188Z",
     "start_time": "2020-03-02T16:32:07.875188Z"
    }
   },
   "outputs": [
    {
     "data": {
      "text/plain": [
       "{<function __main__.f2>, <function __main__.f3>}"
      ]
     },
     "execution_count": 12,
     "metadata": {},
     "output_type": "execute_result"
    }
   ],
   "source": [
    "registry"
   ]
  },
  {
   "cell_type": "markdown",
   "metadata": {},
   "source": [
    "### 参数化clock装饰器"
   ]
  },
  {
   "cell_type": "markdown",
   "metadata": {},
   "source": [
    "再次讨论clock装饰器，为它添加一个功能：让用户传入一个格式字符串，控制装饰器函数的输出。"
   ]
  },
  {
   "cell_type": "code",
   "execution_count": 13,
   "metadata": {
    "ExecuteTime": {
     "end_time": "2020-03-02T16:37:11.043039Z",
     "start_time": "2020-03-02T16:37:11.022038Z"
    }
   },
   "outputs": [],
   "source": [
    "# 计时器\n",
    "import time\n",
    "import functools\n",
    "\n",
    "def clock(func):\n",
    "    def clocked(*args):\n",
    "        t0=time.time()\n",
    "        result=func(*args)\n",
    "        elapsed = time.perf_counter()-t0\n",
    "        name=func.__name__\n",
    "        arg_str=', '.join(repr(arg) for arg in args)\n",
    "        print('[%0.8fs] %s(%s) -> %r'%(elapsed,name,arg_str,result))\n",
    "        return result\n",
    "    return clocked    "
   ]
  },
  {
   "cell_type": "markdown",
   "metadata": {
    "ExecuteTime": {
     "end_time": "2020-03-02T16:37:49.635351Z",
     "start_time": "2020-03-02T16:37:49.631351Z"
    }
   },
   "source": [
    "我们对上面这个装饰器进行改造，通过装饰器工厂来实现想要添加的功能"
   ]
  },
  {
   "cell_type": "code",
   "execution_count": 19,
   "metadata": {
    "ExecuteTime": {
     "end_time": "2020-03-02T16:43:20.701997Z",
     "start_time": "2020-03-02T16:43:20.677996Z"
    }
   },
   "outputs": [],
   "source": [
    "default_fmt = '[{elapsed:0.8f}s]{name}{args} -> {result}'\n",
    "\n",
    "def clock(fmt=default_fmt):\n",
    "    def decorate(func):\n",
    "        def clocked(*_args):\n",
    "            t0=time.time()\n",
    "            _result=func(*_args)\n",
    "            elapsed = time.perf_counter()-t0\n",
    "            name=func.__name__\n",
    "            args=', '.join(repr(arg) for arg in _args)\n",
    "            result = repr(_result)\n",
    "            print(fmt.format(**locals()))\n",
    "            return _result\n",
    "        return clocked\n",
    "    return decorate"
   ]
  },
  {
   "cell_type": "code",
   "execution_count": 20,
   "metadata": {
    "ExecuteTime": {
     "end_time": "2020-03-02T16:43:22.115077Z",
     "start_time": "2020-03-02T16:43:21.738055Z"
    }
   },
   "outputs": [
    {
     "name": "stdout",
     "output_type": "stream",
     "text": [
      "[-1583162030.91540956s]snooze0.123 -> None\n",
      "[-1583162030.91539884s]snooze0.123 -> None\n",
      "[-1583162030.91541076s]snooze0.123 -> None\n"
     ]
    }
   ],
   "source": [
    "@clock()\n",
    "def snooze(seconds):\n",
    "    time.sleep(seconds)\n",
    "\n",
    "for i in range(3):\n",
    "    snooze(.123)"
   ]
  },
  {
   "cell_type": "code",
   "execution_count": 21,
   "metadata": {
    "ExecuteTime": {
     "end_time": "2020-03-02T16:44:23.862908Z",
     "start_time": "2020-03-02T16:44:23.482887Z"
    }
   },
   "outputs": [
    {
     "name": "stdout",
     "output_type": "stream",
     "text": [
      "snooze: -1583162030.918761s\n",
      "snooze: -1583162030.9187465s\n",
      "snooze: -1583162030.918679s\n"
     ]
    }
   ],
   "source": [
    "@clock('{name}: {elapsed}s')\n",
    "def snooze(seconds):\n",
    "    time.sleep(seconds)\n",
    "\n",
    "for i in range(3):\n",
    "    snooze(.123)"
   ]
  },
  {
   "cell_type": "code",
   "execution_count": 22,
   "metadata": {
    "ExecuteTime": {
     "end_time": "2020-03-02T16:45:17.852388Z",
     "start_time": "2020-03-02T16:45:17.474366Z"
    }
   },
   "outputs": [
    {
     "name": "stdout",
     "output_type": "stream",
     "text": [
      "snooze(args) dt=-1583162030.922s\n",
      "snooze(args) dt=-1583162030.922s\n",
      "snooze(args) dt=-1583162030.921s\n"
     ]
    }
   ],
   "source": [
    "@clock('{name}(args) dt={elapsed:0.3f}s')\n",
    "def snooze(seconds):\n",
    "    time.sleep(seconds)\n",
    "\n",
    "for i in range(3):\n",
    "    snooze(.123)"
   ]
  },
  {
   "cell_type": "markdown",
   "metadata": {},
   "source": [
    "以上示例就是我们通过装饰器工厂实现了用户可以传入不同的打印格式参数的功能"
   ]
  },
  {
   "cell_type": "markdown",
   "metadata": {},
   "source": [
    "注：装饰器最好通过实现 `__call__`方法的类来实现，不应该像上面介绍的通过函数实现，此处使用函数只是为了便于理解。"
   ]
  },
  {
   "cell_type": "code",
   "execution_count": null,
   "metadata": {},
   "outputs": [],
   "source": []
  }
 ],
 "metadata": {
  "hide_input": false,
  "kernelspec": {
   "display_name": "Python 3",
   "language": "python",
   "name": "python3"
  },
  "language_info": {
   "codemirror_mode": {
    "name": "ipython",
    "version": 3
   },
   "file_extension": ".py",
   "mimetype": "text/x-python",
   "name": "python",
   "nbconvert_exporter": "python",
   "pygments_lexer": "ipython3",
   "version": "3.7.3"
  },
  "toc": {
   "base_numbering": 1,
   "nav_menu": {},
   "number_sections": true,
   "sideBar": true,
   "skip_h1_title": false,
   "title_cell": "Table of Contents",
   "title_sidebar": "Contents",
   "toc_cell": false,
   "toc_position": {
    "height": "398px",
    "left": "55px",
    "top": "110px",
    "width": "273.188px"
   },
   "toc_section_display": true,
   "toc_window_display": true
  },
  "varInspector": {
   "cols": {
    "lenName": 16,
    "lenType": 16,
    "lenVar": 40
   },
   "kernels_config": {
    "python": {
     "delete_cmd_postfix": "",
     "delete_cmd_prefix": "del ",
     "library": "var_list.py",
     "varRefreshCmd": "print(var_dic_list())"
    },
    "r": {
     "delete_cmd_postfix": ") ",
     "delete_cmd_prefix": "rm(",
     "library": "var_list.r",
     "varRefreshCmd": "cat(var_dic_list()) "
    }
   },
   "types_to_exclude": [
    "module",
    "function",
    "builtin_function_or_method",
    "instance",
    "_Feature"
   ],
   "window_display": false
  }
 },
 "nbformat": 4,
 "nbformat_minor": 1
}
